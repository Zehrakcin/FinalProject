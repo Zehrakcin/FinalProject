{
  "nbformat": 4,
  "nbformat_minor": 0,
  "metadata": {
    "colab": {
      "provenance": []
    },
    "kernelspec": {
      "name": "python3",
      "display_name": "Python 3"
    },
    "language_info": {
      "name": "python"
    }
  },
  "cells": [
    {
      "cell_type": "code",
      "source": [
        "import matplotlib.pyplot as plt\n",
        "import pandas as pd\n",
        "import numpy as np\n",
        "import seaborn as sns"
      ],
      "metadata": {
        "id": "teuuJWtO4O8p"
      },
      "execution_count": null,
      "outputs": []
    },
    {
      "cell_type": "code",
      "execution_count": null,
      "metadata": {
        "id": "SrGj148p4Gap"
      },
      "outputs": [],
      "source": [
        "data = pd.read_excel('/content/CFTR_all_datas.xlsx')"
      ]
    },
    {
      "cell_type": "code",
      "source": [
        "df = pd.DataFrame(data)\n"
      ],
      "metadata": {
        "id": "DnDjocmc4RVq"
      },
      "execution_count": null,
      "outputs": []
    },
    {
      "cell_type": "code",
      "source": [
        "df.head()"
      ],
      "metadata": {
        "colab": {
          "base_uri": "https://localhost:8080/",
          "height": 539
        },
        "id": "vHBzgXEv4S5C",
        "outputId": "8532ecdb-db0b-45c3-d6c6-94d18211a51a"
      },
      "execution_count": null,
      "outputs": [
        {
          "output_type": "execute_result",
          "data": {
            "text/plain": [
              "  Variant cDNA name\\n (ordered 5' to 3') Variant protein name  \\\n",
              "0                           c.-9_14del23      No protein name   \n",
              "1                 c.(?_1)_(53+1_54-1)del       p.Glu2GlyfsX17   \n",
              "2                                 c.1A>G            p.Met1Val   \n",
              "3                                 c.4C>T              p.Gln2X   \n",
              "4                                c.11C>A              p.Ser4X   \n",
              "\n",
              "  Variant legacy name         rsID  # alleles in CFTR2  \\\n",
              "0          124del23bp  rs397508136                   6   \n",
              "1           CFTRdele1    not found                   6   \n",
              "2                 M1V  rs397508328                  26   \n",
              "3                 Q2X  rs397508740                   5   \n",
              "4                 S4X  rs397508173                  14   \n",
              "\n",
              "   Allele frequency in CFTR2\\n (of 142,036 identified variants)*  \\\n",
              "0                                            0.00004               \n",
              "1                                            0.00004               \n",
              "2                                            0.00018               \n",
              "3                                            0.00004               \n",
              "4                                            0.00010               \n",
              "\n",
              "   % pancreatic insufficient (patients with variant in trans with ACMG-PI variant, with variant in homozygosity, or with another variant expected to lead to no CFTR protein production)  \\\n",
              "0                                               1.00                                                                                                                                       \n",
              "1                                               1.00                                                                                                                                       \n",
              "2                                               0.84                                                                                                                                       \n",
              "3                                               1.00                                                                                                                                       \n",
              "4                                               1.00                                                                                                                                       \n",
              "\n",
              "  Variant final determination\\n 24 September 2021 (previous version)  \\\n",
              "0                                         CF-causing                   \n",
              "1                                         CF-causing                   \n",
              "2                                         CF-causing                   \n",
              "3                                         CF-causing                   \n",
              "4                                         CF-causing                   \n",
              "\n",
              "  Variant final determination\\n 29 April 2022 (current version)  \\\n",
              "0                                         CF-causing              \n",
              "1                                         CF-causing              \n",
              "2                                         CF-causing              \n",
              "3                                         CF-causing              \n",
              "4                                         CF-causing              \n",
              "\n",
              "  Change from previous version?  \n",
              "0                            No  \n",
              "1                            No  \n",
              "2                            No  \n",
              "3                            No  \n",
              "4                            No  "
            ],
            "text/html": [
              "\n",
              "  <div id=\"df-637ae12b-379d-40ea-8035-171e1b95ef80\" class=\"colab-df-container\">\n",
              "    <div>\n",
              "<style scoped>\n",
              "    .dataframe tbody tr th:only-of-type {\n",
              "        vertical-align: middle;\n",
              "    }\n",
              "\n",
              "    .dataframe tbody tr th {\n",
              "        vertical-align: top;\n",
              "    }\n",
              "\n",
              "    .dataframe thead th {\n",
              "        text-align: right;\n",
              "    }\n",
              "</style>\n",
              "<table border=\"1\" class=\"dataframe\">\n",
              "  <thead>\n",
              "    <tr style=\"text-align: right;\">\n",
              "      <th></th>\n",
              "      <th>Variant cDNA name\\n (ordered 5' to 3')</th>\n",
              "      <th>Variant protein name</th>\n",
              "      <th>Variant legacy name</th>\n",
              "      <th>rsID</th>\n",
              "      <th># alleles in CFTR2</th>\n",
              "      <th>Allele frequency in CFTR2\\n (of 142,036 identified variants)*</th>\n",
              "      <th>% pancreatic insufficient (patients with variant in trans with ACMG-PI variant, with variant in homozygosity, or with another variant expected to lead to no CFTR protein production)</th>\n",
              "      <th>Variant final determination\\n 24 September 2021 (previous version)</th>\n",
              "      <th>Variant final determination\\n 29 April 2022 (current version)</th>\n",
              "      <th>Change from previous version?</th>\n",
              "    </tr>\n",
              "  </thead>\n",
              "  <tbody>\n",
              "    <tr>\n",
              "      <th>0</th>\n",
              "      <td>c.-9_14del23</td>\n",
              "      <td>No protein name</td>\n",
              "      <td>124del23bp</td>\n",
              "      <td>rs397508136</td>\n",
              "      <td>6</td>\n",
              "      <td>0.00004</td>\n",
              "      <td>1.00</td>\n",
              "      <td>CF-causing</td>\n",
              "      <td>CF-causing</td>\n",
              "      <td>No</td>\n",
              "    </tr>\n",
              "    <tr>\n",
              "      <th>1</th>\n",
              "      <td>c.(?_1)_(53+1_54-1)del</td>\n",
              "      <td>p.Glu2GlyfsX17</td>\n",
              "      <td>CFTRdele1</td>\n",
              "      <td>not found</td>\n",
              "      <td>6</td>\n",
              "      <td>0.00004</td>\n",
              "      <td>1.00</td>\n",
              "      <td>CF-causing</td>\n",
              "      <td>CF-causing</td>\n",
              "      <td>No</td>\n",
              "    </tr>\n",
              "    <tr>\n",
              "      <th>2</th>\n",
              "      <td>c.1A&gt;G</td>\n",
              "      <td>p.Met1Val</td>\n",
              "      <td>M1V</td>\n",
              "      <td>rs397508328</td>\n",
              "      <td>26</td>\n",
              "      <td>0.00018</td>\n",
              "      <td>0.84</td>\n",
              "      <td>CF-causing</td>\n",
              "      <td>CF-causing</td>\n",
              "      <td>No</td>\n",
              "    </tr>\n",
              "    <tr>\n",
              "      <th>3</th>\n",
              "      <td>c.4C&gt;T</td>\n",
              "      <td>p.Gln2X</td>\n",
              "      <td>Q2X</td>\n",
              "      <td>rs397508740</td>\n",
              "      <td>5</td>\n",
              "      <td>0.00004</td>\n",
              "      <td>1.00</td>\n",
              "      <td>CF-causing</td>\n",
              "      <td>CF-causing</td>\n",
              "      <td>No</td>\n",
              "    </tr>\n",
              "    <tr>\n",
              "      <th>4</th>\n",
              "      <td>c.11C&gt;A</td>\n",
              "      <td>p.Ser4X</td>\n",
              "      <td>S4X</td>\n",
              "      <td>rs397508173</td>\n",
              "      <td>14</td>\n",
              "      <td>0.00010</td>\n",
              "      <td>1.00</td>\n",
              "      <td>CF-causing</td>\n",
              "      <td>CF-causing</td>\n",
              "      <td>No</td>\n",
              "    </tr>\n",
              "  </tbody>\n",
              "</table>\n",
              "</div>\n",
              "    <div class=\"colab-df-buttons\">\n",
              "\n",
              "  <div class=\"colab-df-container\">\n",
              "    <button class=\"colab-df-convert\" onclick=\"convertToInteractive('df-637ae12b-379d-40ea-8035-171e1b95ef80')\"\n",
              "            title=\"Convert this dataframe to an interactive table.\"\n",
              "            style=\"display:none;\">\n",
              "\n",
              "  <svg xmlns=\"http://www.w3.org/2000/svg\" height=\"24px\" viewBox=\"0 -960 960 960\">\n",
              "    <path d=\"M120-120v-720h720v720H120Zm60-500h600v-160H180v160Zm220 220h160v-160H400v160Zm0 220h160v-160H400v160ZM180-400h160v-160H180v160Zm440 0h160v-160H620v160ZM180-180h160v-160H180v160Zm440 0h160v-160H620v160Z\"/>\n",
              "  </svg>\n",
              "    </button>\n",
              "\n",
              "  <style>\n",
              "    .colab-df-container {\n",
              "      display:flex;\n",
              "      gap: 12px;\n",
              "    }\n",
              "\n",
              "    .colab-df-convert {\n",
              "      background-color: #E8F0FE;\n",
              "      border: none;\n",
              "      border-radius: 50%;\n",
              "      cursor: pointer;\n",
              "      display: none;\n",
              "      fill: #1967D2;\n",
              "      height: 32px;\n",
              "      padding: 0 0 0 0;\n",
              "      width: 32px;\n",
              "    }\n",
              "\n",
              "    .colab-df-convert:hover {\n",
              "      background-color: #E2EBFA;\n",
              "      box-shadow: 0px 1px 2px rgba(60, 64, 67, 0.3), 0px 1px 3px 1px rgba(60, 64, 67, 0.15);\n",
              "      fill: #174EA6;\n",
              "    }\n",
              "\n",
              "    .colab-df-buttons div {\n",
              "      margin-bottom: 4px;\n",
              "    }\n",
              "\n",
              "    [theme=dark] .colab-df-convert {\n",
              "      background-color: #3B4455;\n",
              "      fill: #D2E3FC;\n",
              "    }\n",
              "\n",
              "    [theme=dark] .colab-df-convert:hover {\n",
              "      background-color: #434B5C;\n",
              "      box-shadow: 0px 1px 3px 1px rgba(0, 0, 0, 0.15);\n",
              "      filter: drop-shadow(0px 1px 2px rgba(0, 0, 0, 0.3));\n",
              "      fill: #FFFFFF;\n",
              "    }\n",
              "  </style>\n",
              "\n",
              "    <script>\n",
              "      const buttonEl =\n",
              "        document.querySelector('#df-637ae12b-379d-40ea-8035-171e1b95ef80 button.colab-df-convert');\n",
              "      buttonEl.style.display =\n",
              "        google.colab.kernel.accessAllowed ? 'block' : 'none';\n",
              "\n",
              "      async function convertToInteractive(key) {\n",
              "        const element = document.querySelector('#df-637ae12b-379d-40ea-8035-171e1b95ef80');\n",
              "        const dataTable =\n",
              "          await google.colab.kernel.invokeFunction('convertToInteractive',\n",
              "                                                    [key], {});\n",
              "        if (!dataTable) return;\n",
              "\n",
              "        const docLinkHtml = 'Like what you see? Visit the ' +\n",
              "          '<a target=\"_blank\" href=https://colab.research.google.com/notebooks/data_table.ipynb>data table notebook</a>'\n",
              "          + ' to learn more about interactive tables.';\n",
              "        element.innerHTML = '';\n",
              "        dataTable['output_type'] = 'display_data';\n",
              "        await google.colab.output.renderOutput(dataTable, element);\n",
              "        const docLink = document.createElement('div');\n",
              "        docLink.innerHTML = docLinkHtml;\n",
              "        element.appendChild(docLink);\n",
              "      }\n",
              "    </script>\n",
              "  </div>\n",
              "\n",
              "\n",
              "<div id=\"df-3bb79ad3-4da4-4495-84fa-fa1c8a384f33\">\n",
              "  <button class=\"colab-df-quickchart\" onclick=\"quickchart('df-3bb79ad3-4da4-4495-84fa-fa1c8a384f33')\"\n",
              "            title=\"Suggest charts\"\n",
              "            style=\"display:none;\">\n",
              "\n",
              "<svg xmlns=\"http://www.w3.org/2000/svg\" height=\"24px\"viewBox=\"0 0 24 24\"\n",
              "     width=\"24px\">\n",
              "    <g>\n",
              "        <path d=\"M19 3H5c-1.1 0-2 .9-2 2v14c0 1.1.9 2 2 2h14c1.1 0 2-.9 2-2V5c0-1.1-.9-2-2-2zM9 17H7v-7h2v7zm4 0h-2V7h2v10zm4 0h-2v-4h2v4z\"/>\n",
              "    </g>\n",
              "</svg>\n",
              "  </button>\n",
              "\n",
              "<style>\n",
              "  .colab-df-quickchart {\n",
              "      --bg-color: #E8F0FE;\n",
              "      --fill-color: #1967D2;\n",
              "      --hover-bg-color: #E2EBFA;\n",
              "      --hover-fill-color: #174EA6;\n",
              "      --disabled-fill-color: #AAA;\n",
              "      --disabled-bg-color: #DDD;\n",
              "  }\n",
              "\n",
              "  [theme=dark] .colab-df-quickchart {\n",
              "      --bg-color: #3B4455;\n",
              "      --fill-color: #D2E3FC;\n",
              "      --hover-bg-color: #434B5C;\n",
              "      --hover-fill-color: #FFFFFF;\n",
              "      --disabled-bg-color: #3B4455;\n",
              "      --disabled-fill-color: #666;\n",
              "  }\n",
              "\n",
              "  .colab-df-quickchart {\n",
              "    background-color: var(--bg-color);\n",
              "    border: none;\n",
              "    border-radius: 50%;\n",
              "    cursor: pointer;\n",
              "    display: none;\n",
              "    fill: var(--fill-color);\n",
              "    height: 32px;\n",
              "    padding: 0;\n",
              "    width: 32px;\n",
              "  }\n",
              "\n",
              "  .colab-df-quickchart:hover {\n",
              "    background-color: var(--hover-bg-color);\n",
              "    box-shadow: 0 1px 2px rgba(60, 64, 67, 0.3), 0 1px 3px 1px rgba(60, 64, 67, 0.15);\n",
              "    fill: var(--button-hover-fill-color);\n",
              "  }\n",
              "\n",
              "  .colab-df-quickchart-complete:disabled,\n",
              "  .colab-df-quickchart-complete:disabled:hover {\n",
              "    background-color: var(--disabled-bg-color);\n",
              "    fill: var(--disabled-fill-color);\n",
              "    box-shadow: none;\n",
              "  }\n",
              "\n",
              "  .colab-df-spinner {\n",
              "    border: 2px solid var(--fill-color);\n",
              "    border-color: transparent;\n",
              "    border-bottom-color: var(--fill-color);\n",
              "    animation:\n",
              "      spin 1s steps(1) infinite;\n",
              "  }\n",
              "\n",
              "  @keyframes spin {\n",
              "    0% {\n",
              "      border-color: transparent;\n",
              "      border-bottom-color: var(--fill-color);\n",
              "      border-left-color: var(--fill-color);\n",
              "    }\n",
              "    20% {\n",
              "      border-color: transparent;\n",
              "      border-left-color: var(--fill-color);\n",
              "      border-top-color: var(--fill-color);\n",
              "    }\n",
              "    30% {\n",
              "      border-color: transparent;\n",
              "      border-left-color: var(--fill-color);\n",
              "      border-top-color: var(--fill-color);\n",
              "      border-right-color: var(--fill-color);\n",
              "    }\n",
              "    40% {\n",
              "      border-color: transparent;\n",
              "      border-right-color: var(--fill-color);\n",
              "      border-top-color: var(--fill-color);\n",
              "    }\n",
              "    60% {\n",
              "      border-color: transparent;\n",
              "      border-right-color: var(--fill-color);\n",
              "    }\n",
              "    80% {\n",
              "      border-color: transparent;\n",
              "      border-right-color: var(--fill-color);\n",
              "      border-bottom-color: var(--fill-color);\n",
              "    }\n",
              "    90% {\n",
              "      border-color: transparent;\n",
              "      border-bottom-color: var(--fill-color);\n",
              "    }\n",
              "  }\n",
              "</style>\n",
              "\n",
              "  <script>\n",
              "    async function quickchart(key) {\n",
              "      const quickchartButtonEl =\n",
              "        document.querySelector('#' + key + ' button');\n",
              "      quickchartButtonEl.disabled = true;  // To prevent multiple clicks.\n",
              "      quickchartButtonEl.classList.add('colab-df-spinner');\n",
              "      try {\n",
              "        const charts = await google.colab.kernel.invokeFunction(\n",
              "            'suggestCharts', [key], {});\n",
              "      } catch (error) {\n",
              "        console.error('Error during call to suggestCharts:', error);\n",
              "      }\n",
              "      quickchartButtonEl.classList.remove('colab-df-spinner');\n",
              "      quickchartButtonEl.classList.add('colab-df-quickchart-complete');\n",
              "    }\n",
              "    (() => {\n",
              "      let quickchartButtonEl =\n",
              "        document.querySelector('#df-3bb79ad3-4da4-4495-84fa-fa1c8a384f33 button');\n",
              "      quickchartButtonEl.style.display =\n",
              "        google.colab.kernel.accessAllowed ? 'block' : 'none';\n",
              "    })();\n",
              "  </script>\n",
              "</div>\n",
              "\n",
              "    </div>\n",
              "  </div>\n"
            ],
            "application/vnd.google.colaboratory.intrinsic+json": {
              "type": "dataframe",
              "variable_name": "df",
              "summary": "{\n  \"name\": \"df\",\n  \"rows\": 3281,\n  \"fields\": [\n    {\n      \"column\": \"Variant cDNA name\\n (ordered 5' to 3')\",\n      \"properties\": {\n        \"dtype\": \"category\",\n        \"num_unique_values\": 537,\n        \"samples\": [\n          \"c.3883_3886delATTT\",\n          \"c.720_741delAGGGAGAATGATGATGAAGTAC\",\n          \"c.350G>C\"\n        ],\n        \"semantic_type\": \"\",\n        \"description\": \"\"\n      }\n    },\n    {\n      \"column\": \"Variant protein name\",\n      \"properties\": {\n        \"dtype\": \"category\",\n        \"num_unique_values\": 404,\n        \"samples\": [\n          \"p.Arg347Pro\",\n          \"p.Leu1258PhefsX7\",\n          \"p.Ser1297PhefsX5 \"\n        ],\n        \"semantic_type\": \"\",\n        \"description\": \"\"\n      }\n    },\n    {\n      \"column\": \"Variant legacy name\",\n      \"properties\": {\n        \"dtype\": \"category\",\n        \"num_unique_values\": 488,\n        \"samples\": [\n          \"849delG\",\n          \"R1066H\",\n          \"T1053I\"\n        ],\n        \"semantic_type\": \"\",\n        \"description\": \"\"\n      }\n    },\n    {\n      \"column\": \"rsID\",\n      \"properties\": {\n        \"dtype\": \"category\",\n        \"num_unique_values\": 422,\n        \"samples\": [\n          \"rs121908812\",\n          \"rs74571530\",\n          \"rs397508413\"\n        ],\n        \"semantic_type\": \"\",\n        \"description\": \"\"\n      }\n    },\n    {\n      \"column\": \"# alleles in CFTR2\",\n      \"properties\": {\n        \"dtype\": \"number\",\n        \"std\": 4888,\n        \"min\": 2,\n        \"max\": 99061,\n        \"num_unique_values\": 164,\n        \"samples\": [\n          533,\n          1155,\n          333\n        ],\n        \"semantic_type\": \"\",\n        \"description\": \"\"\n      }\n    },\n    {\n      \"column\": \"Allele frequency in CFTR2\\n (of 142,036 identified variants)*\",\n      \"properties\": {\n        \"dtype\": \"number\",\n        \"std\": 2113.5022825514648,\n        \"min\": 1e-05,\n        \"max\": 69856.0,\n        \"num_unique_values\": 584,\n        \"samples\": [\n          9.197679354747418e-05,\n          6.4e-05,\n          0.00156\n        ],\n        \"semantic_type\": \"\",\n        \"description\": \"\"\n      }\n    },\n    {\n      \"column\": \"% pancreatic insufficient (patients with variant in trans with ACMG-PI variant, with variant in homozygosity, or with another variant expected to lead to no CFTR protein production)\",\n      \"properties\": {\n        \"dtype\": \"number\",\n        \"std\": 0.33218519387696577,\n        \"min\": 0.0,\n        \"max\": 1.0,\n        \"num_unique_values\": 190,\n        \"samples\": [\n          0.3777778,\n          0.9662162,\n          0.2307692\n        ],\n        \"semantic_type\": \"\",\n        \"description\": \"\"\n      }\n    },\n    {\n      \"column\": \"Variant final determination\\n 24 September 2021 (previous version)\",\n      \"properties\": {\n        \"dtype\": \"category\",\n        \"num_unique_values\": 4,\n        \"samples\": [\n          \"Non CF-causing\",\n          \"Unknown significance\",\n          \"CF-causing\"\n        ],\n        \"semantic_type\": \"\",\n        \"description\": \"\"\n      }\n    },\n    {\n      \"column\": \"Variant final determination\\n 29 April 2022 (current version)\",\n      \"properties\": {\n        \"dtype\": \"category\",\n        \"num_unique_values\": 4,\n        \"samples\": [\n          \"Non CF-causing\",\n          \"Varying clinical consequence\",\n          \"CF-causing\"\n        ],\n        \"semantic_type\": \"\",\n        \"description\": \"\"\n      }\n    },\n    {\n      \"column\": \"Change from previous version?\",\n      \"properties\": {\n        \"dtype\": \"category\",\n        \"num_unique_values\": 2,\n        \"samples\": [\n          \"Yes\",\n          \"No\"\n        ],\n        \"semantic_type\": \"\",\n        \"description\": \"\"\n      }\n    }\n  ]\n}"
            }
          },
          "metadata": {},
          "execution_count": 214
        }
      ]
    },
    {
      "cell_type": "code",
      "source": [
        "ek=df.isna()\n",
        "ek.sum()"
      ],
      "metadata": {
        "colab": {
          "base_uri": "https://localhost:8080/"
        },
        "id": "Sa8O26aO4UUW",
        "outputId": "ffd9762b-1689-4b5f-ec34-3d696d47f743"
      },
      "execution_count": null,
      "outputs": [
        {
          "output_type": "execute_result",
          "data": {
            "text/plain": [
              "Variant cDNA name\\n (ordered 5' to 3')                                                                                                                                                     0\n",
              "Variant protein name                                                                                                                                                                       0\n",
              "Variant legacy name                                                                                                                                                                        0\n",
              "rsID                                                                                                                                                                                       1\n",
              "# alleles in CFTR2                                                                                                                                                                         0\n",
              "Allele frequency in CFTR2\\n (of 142,036 identified variants)*                                                                                                                              0\n",
              "% pancreatic insufficient (patients with variant in trans with ACMG-PI variant, with variant in homozygosity, or with another variant expected to lead to no CFTR protein production)      0\n",
              "Variant final determination\\n 24 September 2021 (previous version)                                                                                                                       144\n",
              "Variant final determination\\n 29 April 2022 (current version)                                                                                                                              0\n",
              "Change from previous version?                                                                                                                                                              0\n",
              "dtype: int64"
            ]
          },
          "metadata": {},
          "execution_count": 215
        }
      ]
    },
    {
      "cell_type": "code",
      "source": [
        "df.describe()"
      ],
      "metadata": {
        "colab": {
          "base_uri": "https://localhost:8080/",
          "height": 335
        },
        "id": "nc1asqU74WPw",
        "outputId": "72e1b201-ad75-400a-b97e-f1754a6d4406"
      },
      "execution_count": null,
      "outputs": [
        {
          "output_type": "execute_result",
          "data": {
            "text/plain": [
              "       # alleles in CFTR2  \\\n",
              "count         3281.000000   \n",
              "mean           337.371838   \n",
              "std           4888.188778   \n",
              "min              2.000000   \n",
              "25%              6.000000   \n",
              "50%             14.000000   \n",
              "75%             43.000000   \n",
              "max          99061.000000   \n",
              "\n",
              "       Allele frequency in CFTR2\\n (of 142,036 identified variants)*  \\\n",
              "count                                        3281.000000               \n",
              "mean                                           89.180701               \n",
              "std                                          2113.502283               \n",
              "min                                             0.000010               \n",
              "25%                                             0.000070               \n",
              "50%                                             0.000440               \n",
              "75%                                             6.000000               \n",
              "max                                         69856.000000               \n",
              "\n",
              "       % pancreatic insufficient (patients with variant in trans with ACMG-PI variant, with variant in homozygosity, or with another variant expected to lead to no CFTR protein production)  \n",
              "count                                        3281.000000                                                                                                                                      \n",
              "mean                                            0.749717                                                                                                                                      \n",
              "std                                             0.332185                                                                                                                                      \n",
              "min                                             0.000000                                                                                                                                      \n",
              "25%                                             0.430000                                                                                                                                      \n",
              "50%                                             0.980000                                                                                                                                      \n",
              "75%                                             1.000000                                                                                                                                      \n",
              "max                                             1.000000                                                                                                                                      "
            ],
            "text/html": [
              "\n",
              "  <div id=\"df-72cbbc8b-8c14-4158-9c8d-0fd05d0bc6bb\" class=\"colab-df-container\">\n",
              "    <div>\n",
              "<style scoped>\n",
              "    .dataframe tbody tr th:only-of-type {\n",
              "        vertical-align: middle;\n",
              "    }\n",
              "\n",
              "    .dataframe tbody tr th {\n",
              "        vertical-align: top;\n",
              "    }\n",
              "\n",
              "    .dataframe thead th {\n",
              "        text-align: right;\n",
              "    }\n",
              "</style>\n",
              "<table border=\"1\" class=\"dataframe\">\n",
              "  <thead>\n",
              "    <tr style=\"text-align: right;\">\n",
              "      <th></th>\n",
              "      <th># alleles in CFTR2</th>\n",
              "      <th>Allele frequency in CFTR2\\n (of 142,036 identified variants)*</th>\n",
              "      <th>% pancreatic insufficient (patients with variant in trans with ACMG-PI variant, with variant in homozygosity, or with another variant expected to lead to no CFTR protein production)</th>\n",
              "    </tr>\n",
              "  </thead>\n",
              "  <tbody>\n",
              "    <tr>\n",
              "      <th>count</th>\n",
              "      <td>3281.000000</td>\n",
              "      <td>3281.000000</td>\n",
              "      <td>3281.000000</td>\n",
              "    </tr>\n",
              "    <tr>\n",
              "      <th>mean</th>\n",
              "      <td>337.371838</td>\n",
              "      <td>89.180701</td>\n",
              "      <td>0.749717</td>\n",
              "    </tr>\n",
              "    <tr>\n",
              "      <th>std</th>\n",
              "      <td>4888.188778</td>\n",
              "      <td>2113.502283</td>\n",
              "      <td>0.332185</td>\n",
              "    </tr>\n",
              "    <tr>\n",
              "      <th>min</th>\n",
              "      <td>2.000000</td>\n",
              "      <td>0.000010</td>\n",
              "      <td>0.000000</td>\n",
              "    </tr>\n",
              "    <tr>\n",
              "      <th>25%</th>\n",
              "      <td>6.000000</td>\n",
              "      <td>0.000070</td>\n",
              "      <td>0.430000</td>\n",
              "    </tr>\n",
              "    <tr>\n",
              "      <th>50%</th>\n",
              "      <td>14.000000</td>\n",
              "      <td>0.000440</td>\n",
              "      <td>0.980000</td>\n",
              "    </tr>\n",
              "    <tr>\n",
              "      <th>75%</th>\n",
              "      <td>43.000000</td>\n",
              "      <td>6.000000</td>\n",
              "      <td>1.000000</td>\n",
              "    </tr>\n",
              "    <tr>\n",
              "      <th>max</th>\n",
              "      <td>99061.000000</td>\n",
              "      <td>69856.000000</td>\n",
              "      <td>1.000000</td>\n",
              "    </tr>\n",
              "  </tbody>\n",
              "</table>\n",
              "</div>\n",
              "    <div class=\"colab-df-buttons\">\n",
              "\n",
              "  <div class=\"colab-df-container\">\n",
              "    <button class=\"colab-df-convert\" onclick=\"convertToInteractive('df-72cbbc8b-8c14-4158-9c8d-0fd05d0bc6bb')\"\n",
              "            title=\"Convert this dataframe to an interactive table.\"\n",
              "            style=\"display:none;\">\n",
              "\n",
              "  <svg xmlns=\"http://www.w3.org/2000/svg\" height=\"24px\" viewBox=\"0 -960 960 960\">\n",
              "    <path d=\"M120-120v-720h720v720H120Zm60-500h600v-160H180v160Zm220 220h160v-160H400v160Zm0 220h160v-160H400v160ZM180-400h160v-160H180v160Zm440 0h160v-160H620v160ZM180-180h160v-160H180v160Zm440 0h160v-160H620v160Z\"/>\n",
              "  </svg>\n",
              "    </button>\n",
              "\n",
              "  <style>\n",
              "    .colab-df-container {\n",
              "      display:flex;\n",
              "      gap: 12px;\n",
              "    }\n",
              "\n",
              "    .colab-df-convert {\n",
              "      background-color: #E8F0FE;\n",
              "      border: none;\n",
              "      border-radius: 50%;\n",
              "      cursor: pointer;\n",
              "      display: none;\n",
              "      fill: #1967D2;\n",
              "      height: 32px;\n",
              "      padding: 0 0 0 0;\n",
              "      width: 32px;\n",
              "    }\n",
              "\n",
              "    .colab-df-convert:hover {\n",
              "      background-color: #E2EBFA;\n",
              "      box-shadow: 0px 1px 2px rgba(60, 64, 67, 0.3), 0px 1px 3px 1px rgba(60, 64, 67, 0.15);\n",
              "      fill: #174EA6;\n",
              "    }\n",
              "\n",
              "    .colab-df-buttons div {\n",
              "      margin-bottom: 4px;\n",
              "    }\n",
              "\n",
              "    [theme=dark] .colab-df-convert {\n",
              "      background-color: #3B4455;\n",
              "      fill: #D2E3FC;\n",
              "    }\n",
              "\n",
              "    [theme=dark] .colab-df-convert:hover {\n",
              "      background-color: #434B5C;\n",
              "      box-shadow: 0px 1px 3px 1px rgba(0, 0, 0, 0.15);\n",
              "      filter: drop-shadow(0px 1px 2px rgba(0, 0, 0, 0.3));\n",
              "      fill: #FFFFFF;\n",
              "    }\n",
              "  </style>\n",
              "\n",
              "    <script>\n",
              "      const buttonEl =\n",
              "        document.querySelector('#df-72cbbc8b-8c14-4158-9c8d-0fd05d0bc6bb button.colab-df-convert');\n",
              "      buttonEl.style.display =\n",
              "        google.colab.kernel.accessAllowed ? 'block' : 'none';\n",
              "\n",
              "      async function convertToInteractive(key) {\n",
              "        const element = document.querySelector('#df-72cbbc8b-8c14-4158-9c8d-0fd05d0bc6bb');\n",
              "        const dataTable =\n",
              "          await google.colab.kernel.invokeFunction('convertToInteractive',\n",
              "                                                    [key], {});\n",
              "        if (!dataTable) return;\n",
              "\n",
              "        const docLinkHtml = 'Like what you see? Visit the ' +\n",
              "          '<a target=\"_blank\" href=https://colab.research.google.com/notebooks/data_table.ipynb>data table notebook</a>'\n",
              "          + ' to learn more about interactive tables.';\n",
              "        element.innerHTML = '';\n",
              "        dataTable['output_type'] = 'display_data';\n",
              "        await google.colab.output.renderOutput(dataTable, element);\n",
              "        const docLink = document.createElement('div');\n",
              "        docLink.innerHTML = docLinkHtml;\n",
              "        element.appendChild(docLink);\n",
              "      }\n",
              "    </script>\n",
              "  </div>\n",
              "\n",
              "\n",
              "<div id=\"df-e11040ff-9d84-457c-a1c2-405a57fcccf3\">\n",
              "  <button class=\"colab-df-quickchart\" onclick=\"quickchart('df-e11040ff-9d84-457c-a1c2-405a57fcccf3')\"\n",
              "            title=\"Suggest charts\"\n",
              "            style=\"display:none;\">\n",
              "\n",
              "<svg xmlns=\"http://www.w3.org/2000/svg\" height=\"24px\"viewBox=\"0 0 24 24\"\n",
              "     width=\"24px\">\n",
              "    <g>\n",
              "        <path d=\"M19 3H5c-1.1 0-2 .9-2 2v14c0 1.1.9 2 2 2h14c1.1 0 2-.9 2-2V5c0-1.1-.9-2-2-2zM9 17H7v-7h2v7zm4 0h-2V7h2v10zm4 0h-2v-4h2v4z\"/>\n",
              "    </g>\n",
              "</svg>\n",
              "  </button>\n",
              "\n",
              "<style>\n",
              "  .colab-df-quickchart {\n",
              "      --bg-color: #E8F0FE;\n",
              "      --fill-color: #1967D2;\n",
              "      --hover-bg-color: #E2EBFA;\n",
              "      --hover-fill-color: #174EA6;\n",
              "      --disabled-fill-color: #AAA;\n",
              "      --disabled-bg-color: #DDD;\n",
              "  }\n",
              "\n",
              "  [theme=dark] .colab-df-quickchart {\n",
              "      --bg-color: #3B4455;\n",
              "      --fill-color: #D2E3FC;\n",
              "      --hover-bg-color: #434B5C;\n",
              "      --hover-fill-color: #FFFFFF;\n",
              "      --disabled-bg-color: #3B4455;\n",
              "      --disabled-fill-color: #666;\n",
              "  }\n",
              "\n",
              "  .colab-df-quickchart {\n",
              "    background-color: var(--bg-color);\n",
              "    border: none;\n",
              "    border-radius: 50%;\n",
              "    cursor: pointer;\n",
              "    display: none;\n",
              "    fill: var(--fill-color);\n",
              "    height: 32px;\n",
              "    padding: 0;\n",
              "    width: 32px;\n",
              "  }\n",
              "\n",
              "  .colab-df-quickchart:hover {\n",
              "    background-color: var(--hover-bg-color);\n",
              "    box-shadow: 0 1px 2px rgba(60, 64, 67, 0.3), 0 1px 3px 1px rgba(60, 64, 67, 0.15);\n",
              "    fill: var(--button-hover-fill-color);\n",
              "  }\n",
              "\n",
              "  .colab-df-quickchart-complete:disabled,\n",
              "  .colab-df-quickchart-complete:disabled:hover {\n",
              "    background-color: var(--disabled-bg-color);\n",
              "    fill: var(--disabled-fill-color);\n",
              "    box-shadow: none;\n",
              "  }\n",
              "\n",
              "  .colab-df-spinner {\n",
              "    border: 2px solid var(--fill-color);\n",
              "    border-color: transparent;\n",
              "    border-bottom-color: var(--fill-color);\n",
              "    animation:\n",
              "      spin 1s steps(1) infinite;\n",
              "  }\n",
              "\n",
              "  @keyframes spin {\n",
              "    0% {\n",
              "      border-color: transparent;\n",
              "      border-bottom-color: var(--fill-color);\n",
              "      border-left-color: var(--fill-color);\n",
              "    }\n",
              "    20% {\n",
              "      border-color: transparent;\n",
              "      border-left-color: var(--fill-color);\n",
              "      border-top-color: var(--fill-color);\n",
              "    }\n",
              "    30% {\n",
              "      border-color: transparent;\n",
              "      border-left-color: var(--fill-color);\n",
              "      border-top-color: var(--fill-color);\n",
              "      border-right-color: var(--fill-color);\n",
              "    }\n",
              "    40% {\n",
              "      border-color: transparent;\n",
              "      border-right-color: var(--fill-color);\n",
              "      border-top-color: var(--fill-color);\n",
              "    }\n",
              "    60% {\n",
              "      border-color: transparent;\n",
              "      border-right-color: var(--fill-color);\n",
              "    }\n",
              "    80% {\n",
              "      border-color: transparent;\n",
              "      border-right-color: var(--fill-color);\n",
              "      border-bottom-color: var(--fill-color);\n",
              "    }\n",
              "    90% {\n",
              "      border-color: transparent;\n",
              "      border-bottom-color: var(--fill-color);\n",
              "    }\n",
              "  }\n",
              "</style>\n",
              "\n",
              "  <script>\n",
              "    async function quickchart(key) {\n",
              "      const quickchartButtonEl =\n",
              "        document.querySelector('#' + key + ' button');\n",
              "      quickchartButtonEl.disabled = true;  // To prevent multiple clicks.\n",
              "      quickchartButtonEl.classList.add('colab-df-spinner');\n",
              "      try {\n",
              "        const charts = await google.colab.kernel.invokeFunction(\n",
              "            'suggestCharts', [key], {});\n",
              "      } catch (error) {\n",
              "        console.error('Error during call to suggestCharts:', error);\n",
              "      }\n",
              "      quickchartButtonEl.classList.remove('colab-df-spinner');\n",
              "      quickchartButtonEl.classList.add('colab-df-quickchart-complete');\n",
              "    }\n",
              "    (() => {\n",
              "      let quickchartButtonEl =\n",
              "        document.querySelector('#df-e11040ff-9d84-457c-a1c2-405a57fcccf3 button');\n",
              "      quickchartButtonEl.style.display =\n",
              "        google.colab.kernel.accessAllowed ? 'block' : 'none';\n",
              "    })();\n",
              "  </script>\n",
              "</div>\n",
              "\n",
              "    </div>\n",
              "  </div>\n"
            ],
            "application/vnd.google.colaboratory.intrinsic+json": {
              "type": "dataframe",
              "summary": "{\n  \"name\": \"df\",\n  \"rows\": 8,\n  \"fields\": [\n    {\n      \"column\": \"# alleles in CFTR2\",\n      \"properties\": {\n        \"dtype\": \"number\",\n        \"std\": 34640.52326229863,\n        \"min\": 2.0,\n        \"max\": 99061.0,\n        \"num_unique_values\": 8,\n        \"samples\": [\n          337.37183785431273,\n          14.0,\n          3281.0\n        ],\n        \"semantic_type\": \"\",\n        \"description\": \"\"\n      }\n    },\n    {\n      \"column\": \"Allele frequency in CFTR2\\n (of 142,036 identified variants)*\",\n      \"properties\": {\n        \"dtype\": \"number\",\n        \"std\": 24452.51688846855,\n        \"min\": 1e-05,\n        \"max\": 69856.0,\n        \"num_unique_values\": 8,\n        \"samples\": [\n          89.18070114655605,\n          0.00044,\n          3281.0\n        ],\n        \"semantic_type\": \"\",\n        \"description\": \"\"\n      }\n    },\n    {\n      \"column\": \"% pancreatic insufficient (patients with variant in trans with ACMG-PI variant, with variant in homozygosity, or with another variant expected to lead to no CFTR protein production)\",\n      \"properties\": {\n        \"dtype\": \"number\",\n        \"std\": 1159.7818568100124,\n        \"min\": 0.0,\n        \"max\": 3281.0,\n        \"num_unique_values\": 7,\n        \"samples\": [\n          3281.0,\n          0.7497171221274,\n          0.98\n        ],\n        \"semantic_type\": \"\",\n        \"description\": \"\"\n      }\n    }\n  ]\n}"
            }
          },
          "metadata": {},
          "execution_count": 216
        }
      ]
    },
    {
      "cell_type": "code",
      "source": [
        "df.info()"
      ],
      "metadata": {
        "id": "-Lmb8cn44YdC",
        "colab": {
          "base_uri": "https://localhost:8080/"
        },
        "outputId": "a5eddea2-d3c2-4b5f-a33d-1f407aaa1bab"
      },
      "execution_count": null,
      "outputs": [
        {
          "output_type": "stream",
          "name": "stdout",
          "text": [
            "<class 'pandas.core.frame.DataFrame'>\n",
            "RangeIndex: 3281 entries, 0 to 3280\n",
            "Data columns (total 10 columns):\n",
            " #   Column                                                                                                                                                                                 Non-Null Count  Dtype  \n",
            "---  ------                                                                                                                                                                                 --------------  -----  \n",
            " 0   Variant cDNA name\n",
            " (ordered 5' to 3')                                                                                                                                                  3281 non-null   object \n",
            " 1   Variant protein name                                                                                                                                                                   3281 non-null   object \n",
            " 2   Variant legacy name                                                                                                                                                                    3281 non-null   object \n",
            " 3   rsID                                                                                                                                                                                   3280 non-null   object \n",
            " 4   # alleles in CFTR2                                                                                                                                                                     3281 non-null   int64  \n",
            " 5   Allele frequency in CFTR2\n",
            " (of 142,036 identified variants)*                                                                                                                           3281 non-null   float64\n",
            " 6   % pancreatic insufficient (patients with variant in trans with ACMG-PI variant, with variant in homozygosity, or with another variant expected to lead to no CFTR protein production)  3281 non-null   float64\n",
            " 7   Variant final determination\n",
            " 24 September 2021 (previous version)                                                                                                                      3137 non-null   object \n",
            " 8   Variant final determination\n",
            " 29 April 2022 (current version)                                                                                                                           3281 non-null   object \n",
            " 9   Change from previous version?                                                                                                                                                          3281 non-null   object \n",
            "dtypes: float64(2), int64(1), object(7)\n",
            "memory usage: 256.5+ KB\n"
          ]
        }
      ]
    },
    {
      "cell_type": "code",
      "source": [
        "value_counts = df['Variant protein name'].value_counts()\n",
        "print(\"\\nSütundaki Benzersiz Değerlerin Sayısı:\")\n",
        "print(value_counts)"
      ],
      "metadata": {
        "colab": {
          "base_uri": "https://localhost:8080/"
        },
        "id": "98edQbyzHUmM",
        "outputId": "387f5633-f5ee-4829-c186-48a830afecfb"
      },
      "execution_count": null,
      "outputs": [
        {
          "output_type": "stream",
          "name": "stdout",
          "text": [
            "\n",
            "Sütundaki Benzersiz Değerlerin Sayısı:\n",
            "Variant protein name\n",
            "No protein name     713\n",
            "p.Lys1250ArgfsX9     16\n",
            "p.Tyr913X            14\n",
            "p.Leu997Phe           8\n",
            "p.Ser977Phe           8\n",
            "                   ... \n",
            "p.Gly194X             1\n",
            "p.Tyr109X             1\n",
            "p.Lys68X              1\n",
            "p.Ser18GlnfsX27       1\n",
            "p.Asp1270MetfsX8      1\n",
            "Name: count, Length: 404, dtype: int64\n"
          ]
        }
      ]
    },
    {
      "cell_type": "code",
      "source": [
        "value_counts = df['Variant legacy name'].value_counts()\n",
        "print(\"\\nSütundaki Benzersiz Değerlerin Sayısı:\")\n",
        "print(value_counts)"
      ],
      "metadata": {
        "colab": {
          "base_uri": "https://localhost:8080/"
        },
        "id": "xoGKhU--HwmW",
        "outputId": "5049a39f-a97d-4b9f-c1fd-7d4f66a60f73"
      },
      "execution_count": null,
      "outputs": [
        {
          "output_type": "stream",
          "name": "stdout",
          "text": [
            "\n",
            "Sütundaki Benzersiz Değerlerin Sayısı:\n",
            "Variant legacy name\n",
            "124del23bp      8\n",
            "1898+1G->A      8\n",
            "3028delA        8\n",
            "3007delG        8\n",
            "2991del32       8\n",
            "               ..\n",
            "663insT         1\n",
            "Y109X           1\n",
            "K68X            1\n",
            "CFTRdelePr-1    1\n",
            "3940delG        1\n",
            "Name: count, Length: 488, dtype: int64\n"
          ]
        }
      ]
    },
    {
      "cell_type": "code",
      "source": [
        "value_counts = df['rsID'].value_counts()\n",
        "print(\"\\nSütundaki Benzersiz Değerlerin Sayısı:\")\n",
        "print(value_counts)"
      ],
      "metadata": {
        "colab": {
          "base_uri": "https://localhost:8080/"
        },
        "id": "0h-MyXD1HwsY",
        "outputId": "b1e89c69-e9d1-40a4-d166-07dca2aaa563"
      },
      "execution_count": null,
      "outputs": [
        {
          "output_type": "stream",
          "name": "stdout",
          "text": [
            "\n",
            "Sütundaki Benzersiz Değerlerin Sayısı:\n",
            "rsID\n",
            "not found       324\n",
            "rs1805177        22\n",
            "rs121908748      22\n",
            "rs78655421       17\n",
            "rs77932196       16\n",
            "               ... \n",
            "rs55928397        1\n",
            "rs1554389062      1\n",
            "rs1584812217      1\n",
            "rs397508475       1\n",
            "rs763843966       1\n",
            "Name: count, Length: 422, dtype: int64\n"
          ]
        }
      ]
    },
    {
      "cell_type": "code",
      "source": [
        "value_counts = df['# alleles in CFTR2'].value_counts()\n",
        "print(\"\\nSütundaki Benzersiz Değerlerin Sayısı:\")\n",
        "print(value_counts)"
      ],
      "metadata": {
        "colab": {
          "base_uri": "https://localhost:8080/"
        },
        "id": "kau3lwBsIMGA",
        "outputId": "ac68032f-a6f4-498e-e457-06757a8e5de8"
      },
      "execution_count": null,
      "outputs": [
        {
          "output_type": "stream",
          "name": "stdout",
          "text": [
            "\n",
            "Sütundaki Benzersiz Değerlerin Sayısı:\n",
            "# alleles in CFTR2\n",
            "3       242\n",
            "5       233\n",
            "4       228\n",
            "7       188\n",
            "6       146\n",
            "       ... \n",
            "67        2\n",
            "1852      2\n",
            "463       2\n",
            "471       2\n",
            "610       2\n",
            "Name: count, Length: 164, dtype: int64\n"
          ]
        }
      ]
    },
    {
      "cell_type": "code",
      "source": [
        "\n",
        "print(df)"
      ],
      "metadata": {
        "colab": {
          "base_uri": "https://localhost:8080/"
        },
        "id": "WYqCbbUC4ap5",
        "outputId": "97e371ad-317a-4a68-d041-9e65c696ad7b"
      },
      "execution_count": null,
      "outputs": [
        {
          "output_type": "stream",
          "name": "stdout",
          "text": [
            "     Variant cDNA name\\n (ordered 5' to 3') Variant protein name  \\\n",
            "0                              c.-9_14del23      No protein name   \n",
            "1                    c.(?_1)_(53+1_54-1)del       p.Glu2GlyfsX17   \n",
            "2                                    c.1A>G            p.Met1Val   \n",
            "3                                    c.4C>T              p.Gln2X   \n",
            "4                                   c.11C>A              p.Ser4X   \n",
            "...                                     ...                  ...   \n",
            "3276                             c.4251delA    p.Glu1418ArgfsX14   \n",
            "3277                         c.4300_4301dup    p.Ser1435GlyfsX14   \n",
            "3278                              c.4364C>G           p.Ser1455X   \n",
            "3279                              c.4426C>T           p.Gln1476X   \n",
            "3280                              c.4439T>C         p.Leu1480Pro   \n",
            "\n",
            "     Variant legacy name         rsID  # alleles in CFTR2  \\\n",
            "0             124del23bp  rs397508136                   6   \n",
            "1              CFTRdele1    not found                   6   \n",
            "2                    M1V  rs397508328                  26   \n",
            "3                    Q2X  rs397508740                   5   \n",
            "4                    S4X  rs397508173                  14   \n",
            "...                  ...          ...                 ...   \n",
            "3276            4382delA  rs397508706                  65   \n",
            "3277           4428insGA  rs397508709                   4   \n",
            "3278              S1455X  rs121909043                  18   \n",
            "3279              Q1476X  rs374705585                  17   \n",
            "3280              L1480P  rs758818611                   5   \n",
            "\n",
            "      Allele frequency in CFTR2\\n (of 142,036 identified variants)*  \\\n",
            "0                                               0.00004               \n",
            "1                                               0.00004               \n",
            "2                                               0.00018               \n",
            "3                                               0.00004               \n",
            "4                                               0.00010               \n",
            "...                                                 ...               \n",
            "3276                                            0.00046               \n",
            "3277                                            0.00003               \n",
            "3278                                            0.00013               \n",
            "3279                                            0.00012               \n",
            "3280                                            0.00004               \n",
            "\n",
            "      % pancreatic insufficient (patients with variant in trans with ACMG-PI variant, with variant in homozygosity, or with another variant expected to lead to no CFTR protein production)  \\\n",
            "0                                                  1.00                                                                                                                                       \n",
            "1                                                  1.00                                                                                                                                       \n",
            "2                                                  0.84                                                                                                                                       \n",
            "3                                                  1.00                                                                                                                                       \n",
            "4                                                  1.00                                                                                                                                       \n",
            "...                                                 ...                                                                                                                                       \n",
            "3276                                               0.38                                                                                                                                       \n",
            "3277                                               0.75                                                                                                                                       \n",
            "3278                                               0.10                                                                                                                                       \n",
            "3279                                               0.18                                                                                                                                       \n",
            "3280                                               0.67                                                                                                                                       \n",
            "\n",
            "     Variant final determination\\n 24 September 2021 (previous version)  \\\n",
            "0                                            CF-causing                   \n",
            "1                                            CF-causing                   \n",
            "2                                            CF-causing                   \n",
            "3                                            CF-causing                   \n",
            "4                                            CF-causing                   \n",
            "...                                                 ...                   \n",
            "3276                                         CF-causing                   \n",
            "3277                                         CF-causing                   \n",
            "3278                       Varying clinical consequence                   \n",
            "3279                       Varying clinical consequence                   \n",
            "3280                       Varying clinical consequence                   \n",
            "\n",
            "     Variant final determination\\n 29 April 2022 (current version)  \\\n",
            "0                                            CF-causing              \n",
            "1                                            CF-causing              \n",
            "2                                            CF-causing              \n",
            "3                                            CF-causing              \n",
            "4                                            CF-causing              \n",
            "...                                                 ...              \n",
            "3276                                         CF-causing              \n",
            "3277                                         CF-causing              \n",
            "3278                       Varying clinical consequence              \n",
            "3279                       Varying clinical consequence              \n",
            "3280                       Varying clinical consequence              \n",
            "\n",
            "     Change from previous version?  \n",
            "0                               No  \n",
            "1                               No  \n",
            "2                               No  \n",
            "3                               No  \n",
            "4                               No  \n",
            "...                            ...  \n",
            "3276                            No  \n",
            "3277                            No  \n",
            "3278                            No  \n",
            "3279                            No  \n",
            "3280                            No  \n",
            "\n",
            "[3281 rows x 10 columns]\n"
          ]
        }
      ]
    },
    {
      "cell_type": "code",
      "source": [],
      "metadata": {
        "id": "AfMmC-YzDJUr"
      },
      "execution_count": null,
      "outputs": []
    },
    {
      "cell_type": "code",
      "source": [
        "df = df.rename(columns={\"Variant cDNA name\\n (ordered 5 to 3)\": \"Variant_cDNA_name\"})\n"
      ],
      "metadata": {
        "id": "U5ahbMRx76vb"
      },
      "execution_count": null,
      "outputs": []
    },
    {
      "cell_type": "code",
      "source": [
        "df = df.rename(columns={'Allele frequency in CFTR2\\n (of 142,036 identified variants)*': 'Allele_frequency_CFTR2'})\n"
      ],
      "metadata": {
        "id": "mpTVIksi765C"
      },
      "execution_count": null,
      "outputs": []
    },
    {
      "cell_type": "code",
      "source": [
        "df = df.rename(columns={'# alleles in CFTR2': 'alleles_CFTR2'})\n"
      ],
      "metadata": {
        "id": "gB5R-qPK8iOd"
      },
      "execution_count": null,
      "outputs": []
    },
    {
      "cell_type": "code",
      "source": [
        "df = df.rename(columns={'% pancreatic insufficient (patients with variant in trans with ACMG-PI variant, with variant in homozygosity, or with another variant expected to lead to no CFTR protein production)': 'pancreatic_insufficient'})\n"
      ],
      "metadata": {
        "id": "_RSESz4K8iSF"
      },
      "execution_count": null,
      "outputs": []
    },
    {
      "cell_type": "code",
      "source": [
        "df = df.rename(columns={'Variant final determination\\n 24 September 2021 (previous version)': 'Previous_Variant_Determination'})\n"
      ],
      "metadata": {
        "id": "-J90N_Z09Z7h"
      },
      "execution_count": null,
      "outputs": []
    },
    {
      "cell_type": "code",
      "source": [
        "df = df.rename(columns={'Variant final determination\\n 29 April 2022 (current version)': 'Variant_final_determination_current'})\n"
      ],
      "metadata": {
        "id": "81zfAIJP95Pb"
      },
      "execution_count": null,
      "outputs": []
    },
    {
      "cell_type": "code",
      "source": [
        "print(df)"
      ],
      "metadata": {
        "colab": {
          "base_uri": "https://localhost:8080/"
        },
        "id": "SvLxf19p95bq",
        "outputId": "363bcec6-6002-4fed-facc-fbcf103914c5"
      },
      "execution_count": null,
      "outputs": [
        {
          "output_type": "stream",
          "name": "stdout",
          "text": [
            "     Variant cDNA name\\n (ordered 5' to 3') Variant protein name  \\\n",
            "0                              c.-9_14del23      No protein name   \n",
            "1                    c.(?_1)_(53+1_54-1)del       p.Glu2GlyfsX17   \n",
            "2                                    c.1A>G            p.Met1Val   \n",
            "3                                    c.4C>T              p.Gln2X   \n",
            "4                                   c.11C>A              p.Ser4X   \n",
            "...                                     ...                  ...   \n",
            "3276                             c.4251delA    p.Glu1418ArgfsX14   \n",
            "3277                         c.4300_4301dup    p.Ser1435GlyfsX14   \n",
            "3278                              c.4364C>G           p.Ser1455X   \n",
            "3279                              c.4426C>T           p.Gln1476X   \n",
            "3280                              c.4439T>C         p.Leu1480Pro   \n",
            "\n",
            "     Variant legacy name         rsID  alleles_CFTR2  Allele_frequency_CFTR2  \\\n",
            "0             124del23bp  rs397508136              6                 0.00004   \n",
            "1              CFTRdele1    not found              6                 0.00004   \n",
            "2                    M1V  rs397508328             26                 0.00018   \n",
            "3                    Q2X  rs397508740              5                 0.00004   \n",
            "4                    S4X  rs397508173             14                 0.00010   \n",
            "...                  ...          ...            ...                     ...   \n",
            "3276            4382delA  rs397508706             65                 0.00046   \n",
            "3277           4428insGA  rs397508709              4                 0.00003   \n",
            "3278              S1455X  rs121909043             18                 0.00013   \n",
            "3279              Q1476X  rs374705585             17                 0.00012   \n",
            "3280              L1480P  rs758818611              5                 0.00004   \n",
            "\n",
            "      pancreatic_insufficient Previous_Variant_Determination  \\\n",
            "0                        1.00                     CF-causing   \n",
            "1                        1.00                     CF-causing   \n",
            "2                        0.84                     CF-causing   \n",
            "3                        1.00                     CF-causing   \n",
            "4                        1.00                     CF-causing   \n",
            "...                       ...                            ...   \n",
            "3276                     0.38                     CF-causing   \n",
            "3277                     0.75                     CF-causing   \n",
            "3278                     0.10   Varying clinical consequence   \n",
            "3279                     0.18   Varying clinical consequence   \n",
            "3280                     0.67   Varying clinical consequence   \n",
            "\n",
            "     Variant_final_determination_current Change from previous version?  \n",
            "0                             CF-causing                            No  \n",
            "1                             CF-causing                            No  \n",
            "2                             CF-causing                            No  \n",
            "3                             CF-causing                            No  \n",
            "4                             CF-causing                            No  \n",
            "...                                  ...                           ...  \n",
            "3276                          CF-causing                            No  \n",
            "3277                          CF-causing                            No  \n",
            "3278        Varying clinical consequence                            No  \n",
            "3279        Varying clinical consequence                            No  \n",
            "3280        Varying clinical consequence                            No  \n",
            "\n",
            "[3281 rows x 10 columns]\n"
          ]
        }
      ]
    },
    {
      "cell_type": "code",
      "source": [
        "value_counts = df['Previous_Variant_Determination'].value_counts()\n",
        "print(\"\\nSütundaki Benzersiz Değerlerin Sayısı:\")\n",
        "print(value_counts)"
      ],
      "metadata": {
        "colab": {
          "base_uri": "https://localhost:8080/"
        },
        "id": "XjqHrzpPMjSy",
        "outputId": "4ddc82a4-44d9-4166-e0d9-a01117e6d3c5"
      },
      "execution_count": null,
      "outputs": [
        {
          "output_type": "stream",
          "name": "stdout",
          "text": [
            "\n",
            "Sütundaki Benzersiz Değerlerin Sayısı:\n",
            "Previous_Variant_Determination\n",
            "CF-causing                      2630\n",
            "Varying clinical consequence     290\n",
            "Non CF-causing                   148\n",
            "Unknown significance              69\n",
            "Name: count, dtype: int64\n"
          ]
        }
      ]
    },
    {
      "cell_type": "code",
      "source": [
        "value_counts = df['Variant_final_determination_current'].value_counts()\n",
        "print(\"\\nSütundaki Benzersiz Değerlerin Sayısı:\")\n",
        "print(value_counts)"
      ],
      "metadata": {
        "colab": {
          "base_uri": "https://localhost:8080/"
        },
        "id": "VKI6S5U0MveN",
        "outputId": "6e346ef7-42d2-4a6f-c71f-23297d0301de"
      },
      "execution_count": null,
      "outputs": [
        {
          "output_type": "stream",
          "name": "stdout",
          "text": [
            "\n",
            "Sütundaki Benzersiz Değerlerin Sayısı:\n",
            "Variant_final_determination_current\n",
            "CF-causing                      2738\n",
            "Varying clinical consequence     307\n",
            "Non CF-causing                   159\n",
            "Unknown significance              77\n",
            "Name: count, dtype: int64\n"
          ]
        }
      ]
    },
    {
      "cell_type": "code",
      "source": [
        "value_counts = df['Allele_frequency_CFTR2'].value_counts()\n",
        "print(\"\\nSütundaki Benzersiz Değerlerin Sayısı:\")\n",
        "print(value_counts)"
      ],
      "metadata": {
        "colab": {
          "base_uri": "https://localhost:8080/"
        },
        "id": "SiQZ-Of_MvhW",
        "outputId": "6a9babbd-c93a-445f-957a-5d568eb44ad3"
      },
      "execution_count": null,
      "outputs": [
        {
          "output_type": "stream",
          "name": "stdout",
          "text": [
            "\n",
            "Sütundaki Benzersiz Değerlerin Sayısı:\n",
            "Allele_frequency_CFTR2\n",
            "4.000000     146\n",
            "0.000040     138\n",
            "0.000020      96\n",
            "3.000000      88\n",
            "2.000000      88\n",
            "            ... \n",
            "0.003309       1\n",
            "0.000662       1\n",
            "0.000014       1\n",
            "0.003527       1\n",
            "45.000000      1\n",
            "Name: count, Length: 584, dtype: int64\n"
          ]
        }
      ]
    },
    {
      "cell_type": "code",
      "source": [
        "value_counts = df[\"Variant cDNA name\\n (ordered 5' to 3')\"].value_counts()\n",
        "print(\"\\nSütundaki Benzersiz Değerlerin Sayısı:\")\n",
        "print(value_counts)"
      ],
      "metadata": {
        "colab": {
          "base_uri": "https://localhost:8080/"
        },
        "id": "CGLrjaf9M0fU",
        "outputId": "53a72e89-c3e5-4de8-fd04-f18f4bc8658e"
      },
      "execution_count": null,
      "outputs": [
        {
          "output_type": "stream",
          "name": "stdout",
          "text": [
            "\n",
            "Sütundaki Benzersiz Değerlerin Sayısı:\n",
            "Variant cDNA name\\n (ordered 5' to 3')\n",
            "c.-9_14del23                  8\n",
            "c.2464G>T                     8\n",
            "c.2739T>A                     8\n",
            "c.2737_2738insG               8\n",
            "c.2735C>A                     8\n",
            "                             ..\n",
            "c.50dupT                      1\n",
            "c.(?_-1270)_(53+1_54-1)del    1\n",
            "c.4036_4042delCTAAGCC         1\n",
            "c.1210−12[9]                  1\n",
            "c.3808delG                    1\n",
            "Name: count, Length: 537, dtype: int64\n"
          ]
        }
      ]
    },
    {
      "cell_type": "code",
      "source": [
        "df['Variant legacy name'].describe()"
      ],
      "metadata": {
        "colab": {
          "base_uri": "https://localhost:8080/"
        },
        "id": "Vv245_xi4b_b",
        "outputId": "14105aa2-d23f-4ef2-f58f-d33a121ca9bb"
      },
      "execution_count": null,
      "outputs": [
        {
          "output_type": "execute_result",
          "data": {
            "text/plain": [
              "count           3281\n",
              "unique           488\n",
              "top       124del23bp\n",
              "freq               8\n",
              "Name: Variant legacy name, dtype: object"
            ]
          },
          "metadata": {},
          "execution_count": 234
        }
      ]
    },
    {
      "cell_type": "code",
      "source": [
        "df.replace(\"not found\", np.nan, inplace=True)\n",
        "df.replace(\"No protein name\", np.nan, inplace=True)\n",
        "df.replace(\"Unknown significance\", np.nan, inplace=True)\n"
      ],
      "metadata": {
        "id": "iTMs3CVK8hot"
      },
      "execution_count": null,
      "outputs": []
    },
    {
      "cell_type": "code",
      "source": [
        "ek=df.isna()\n",
        "ek.sum()"
      ],
      "metadata": {
        "colab": {
          "base_uri": "https://localhost:8080/"
        },
        "id": "Mhk5nFzNGHXW",
        "outputId": "a68fe733-919b-4f1c-e10e-210a1da867cc"
      },
      "execution_count": null,
      "outputs": [
        {
          "output_type": "execute_result",
          "data": {
            "text/plain": [
              "Variant cDNA name\\n (ordered 5' to 3')      0\n",
              "Variant protein name                      713\n",
              "Variant legacy name                         0\n",
              "rsID                                      325\n",
              "alleles_CFTR2                               0\n",
              "Allele_frequency_CFTR2                      0\n",
              "pancreatic_insufficient                     0\n",
              "Previous_Variant_Determination            213\n",
              "Variant_final_determination_current        77\n",
              "Change from previous version?               0\n",
              "dtype: int64"
            ]
          },
          "metadata": {},
          "execution_count": 236
        }
      ]
    },
    {
      "cell_type": "code",
      "source": [
        "for col in df.columns:\n",
        "    # Her sütunun modunu bulma\n",
        "    mode_value = df[col].mode().iloc[0]\n",
        "\n",
        "    # NaN değerleri bulunan sütunu mod değeriyle doldurma\n",
        "    df[col].fillna(mode_value, inplace=True)\n"
      ],
      "metadata": {
        "id": "UTSaltQzGHTM"
      },
      "execution_count": null,
      "outputs": []
    },
    {
      "cell_type": "code",
      "source": [
        "ek=df.isna()\n",
        "ek.sum()"
      ],
      "metadata": {
        "id": "E4BOdB2RGHQp",
        "colab": {
          "base_uri": "https://localhost:8080/"
        },
        "outputId": "40caf890-6c36-4904-b6a8-007246acc2cc"
      },
      "execution_count": null,
      "outputs": [
        {
          "output_type": "execute_result",
          "data": {
            "text/plain": [
              "Variant cDNA name\\n (ordered 5' to 3')    0\n",
              "Variant protein name                      0\n",
              "Variant legacy name                       0\n",
              "rsID                                      0\n",
              "alleles_CFTR2                             0\n",
              "Allele_frequency_CFTR2                    0\n",
              "pancreatic_insufficient                   0\n",
              "Previous_Variant_Determination            0\n",
              "Variant_final_determination_current       0\n",
              "Change from previous version?             0\n",
              "dtype: int64"
            ]
          },
          "metadata": {},
          "execution_count": 238
        }
      ]
    },
    {
      "cell_type": "code",
      "source": [],
      "metadata": {
        "id": "luDAHdkKSyJg"
      },
      "execution_count": null,
      "outputs": []
    },
    {
      "cell_type": "code",
      "source": [
        "df[\"Variant cDNA name\\n (ordered 5' to 3')\"] = df[\"Variant cDNA name\\n (ordered 5' to 3')\"].astype(str)\n",
        "\n",
        "# Yeni sütunlar oluşturma ve ayrıştırma işlemi\n",
        "df['1_amino_acid_change'] = df[\"Variant cDNA name\\n (ordered 5' to 3')\"].str.extract(r'(\\D+)')  # İlk harfe kadar olan değerleri alma\n",
        "df['1_a_position'] = df[\"Variant cDNA name\\n (ordered 5' to 3')\"].str.extract(r'(-?\\d+)')\n"
      ],
      "metadata": {
        "id": "sksaX3gsSyMg"
      },
      "execution_count": null,
      "outputs": []
    },
    {
      "cell_type": "code",
      "source": [
        "#df = pd.read_excel('/content/CFTR_all_datas.xlsx')\n",
        "# İlk sütun için işlemleri yapın\n",
        "#df[\"Variant cDNA name\\n (ordered 5' to 3')\"] = df[\"Variant cDNA name\\n (ordered 5' to 3')\"].astype(str)  # Sütunu stringe dönüştürün\n",
        "\n",
        "# İlk iki karakteri silin\n",
        "#df['New_Column'] = df[\"Variant cDNA name\\n (ordered 5' to 3')\"].str[2:]\n",
        "\n",
        "# İlk harfe kadar olan değerleri alarak yeni bir sütuna koyun\n",
        "#df['New_Column'] = df['New_Column'].str.extract(r'(\\D+)')\n",
        "\n",
        "# Sonuçları yeni bir Excel dosyasına yazdırın\n",
        "#df.to_excel('yeni_veri1.xlsx', index=False)"
      ],
      "metadata": {
        "id": "zn_7p7pY5qVl"
      },
      "execution_count": null,
      "outputs": []
    },
    {
      "cell_type": "code",
      "source": [],
      "metadata": {
        "id": "5MrPnZYGiTEW"
      },
      "execution_count": null,
      "outputs": []
    },
    {
      "cell_type": "code",
      "source": [
        "\n",
        "# Yeni sütunlar oluşturma ve ayrıştırma işlemi\n",
        "df['2_amino_acid_original'] = df['Variant protein name'].str[2:5]  # İlk üç karakter amino asit değişimi\n",
        "df['2_position'] = df['Variant protein name'].str[5:-3]  # Pozisyon bilgisi\n",
        "df['2_amino_acid_new'] = df['Variant protein name'].str[-3:]  # Yeni amino asit\n",
        "#df['extra_info'] = \"\"  # Ek bilgi için başlangıçta boş sütun oluşturalım\n",
        "\n",
        "# \"amino_acid_new\" sütununu kontrol ederek \"extra_info\" sütununu doldurma\n",
        "#df.loc[df['amino_acid_new'].str.contains('fs'), 'extra_info'] = 'frameshift'\n",
        "#df.loc[df['amino_acid_new'] == 'X', 'extra_info'] = 'stop codon'\n",
        "\n"
      ],
      "metadata": {
        "id": "bJ5SSbhkv7tY"
      },
      "execution_count": null,
      "outputs": []
    },
    {
      "cell_type": "code",
      "source": [
        "import re\n",
        "\n",
        "# Desene göre ayrıştırma fonksiyonları\n",
        "def extract_pattern1(variant):\n",
        "    # Harfle başlayıp sayıyla devam eden deseni çıkartma\n",
        "    parts = re.split(r'(\\d+)', variant)\n",
        "    change_type = parts[0]\n",
        "    position = parts[1]\n",
        "    return change_type, position\n",
        "\n",
        "def extract_pattern2(variant):\n",
        "    # Sayıyla başlayıp harfle devam eden deseni çıkartma\n",
        "    parts = re.split(r'(\\D+)', variant)\n",
        "    position = parts[1]\n",
        "    change_type = parts[2]\n",
        "    return change_type, position\n",
        "\n",
        "# Veri setini işleme\n",
        "for index, row in df.iterrows():\n",
        "    variant = row['Variant legacy name']\n",
        "    if variant[0].isalpha():  # Harfle başlayıp sayıyla devam eden desen\n",
        "        change_type, position = extract_pattern1(variant)\n",
        "    else:  # Sayıyla başlayıp harfle devam eden desen\n",
        "        change_type, position = extract_pattern2(variant)\n",
        "\n",
        "    # Yeni sütunlara atama\n",
        "    df.loc[index, '3_Change_Type'] = change_type\n",
        "    df.loc[index, '3_Position'] = position\n",
        "\n",
        "# Sonuçları gösterme\n",
        "print(df)"
      ],
      "metadata": {
        "colab": {
          "base_uri": "https://localhost:8080/"
        },
        "id": "HINkMzr8Qtm2",
        "outputId": "2f6eb384-88b8-407c-a50b-bf0c90d36bf9"
      },
      "execution_count": null,
      "outputs": [
        {
          "output_type": "stream",
          "name": "stdout",
          "text": [
            "     Variant cDNA name\\n (ordered 5' to 3') Variant protein name  \\\n",
            "0                              c.-9_14del23     p.Lys1250ArgfsX9   \n",
            "1                    c.(?_1)_(53+1_54-1)del       p.Glu2GlyfsX17   \n",
            "2                                    c.1A>G            p.Met1Val   \n",
            "3                                    c.4C>T              p.Gln2X   \n",
            "4                                   c.11C>A              p.Ser4X   \n",
            "...                                     ...                  ...   \n",
            "3276                             c.4251delA    p.Glu1418ArgfsX14   \n",
            "3277                         c.4300_4301dup    p.Ser1435GlyfsX14   \n",
            "3278                              c.4364C>G           p.Ser1455X   \n",
            "3279                              c.4426C>T           p.Gln1476X   \n",
            "3280                              c.4439T>C         p.Leu1480Pro   \n",
            "\n",
            "     Variant legacy name         rsID  alleles_CFTR2  Allele_frequency_CFTR2  \\\n",
            "0             124del23bp  rs397508136              6                 0.00004   \n",
            "1              CFTRdele1  rs121908748              6                 0.00004   \n",
            "2                    M1V  rs397508328             26                 0.00018   \n",
            "3                    Q2X  rs397508740              5                 0.00004   \n",
            "4                    S4X  rs397508173             14                 0.00010   \n",
            "...                  ...          ...            ...                     ...   \n",
            "3276            4382delA  rs397508706             65                 0.00046   \n",
            "3277           4428insGA  rs397508709              4                 0.00003   \n",
            "3278              S1455X  rs121909043             18                 0.00013   \n",
            "3279              Q1476X  rs374705585             17                 0.00012   \n",
            "3280              L1480P  rs758818611              5                 0.00004   \n",
            "\n",
            "      pancreatic_insufficient Previous_Variant_Determination  \\\n",
            "0                        1.00                     CF-causing   \n",
            "1                        1.00                     CF-causing   \n",
            "2                        0.84                     CF-causing   \n",
            "3                        1.00                     CF-causing   \n",
            "4                        1.00                     CF-causing   \n",
            "...                       ...                            ...   \n",
            "3276                     0.38                     CF-causing   \n",
            "3277                     0.75                     CF-causing   \n",
            "3278                     0.10   Varying clinical consequence   \n",
            "3279                     0.18   Varying clinical consequence   \n",
            "3280                     0.67   Varying clinical consequence   \n",
            "\n",
            "     Variant_final_determination_current Change from previous version?  \\\n",
            "0                             CF-causing                            No   \n",
            "1                             CF-causing                            No   \n",
            "2                             CF-causing                            No   \n",
            "3                             CF-causing                            No   \n",
            "4                             CF-causing                            No   \n",
            "...                                  ...                           ...   \n",
            "3276                          CF-causing                            No   \n",
            "3277                          CF-causing                            No   \n",
            "3278        Varying clinical consequence                            No   \n",
            "3279        Varying clinical consequence                            No   \n",
            "3280        Varying clinical consequence                            No   \n",
            "\n",
            "     1_amino_acid_change 1_a_position 2_amino_acid_original 2_position  \\\n",
            "0                    c.-           -9                   Lys   1250Argf   \n",
            "1                  c.(?_            1                   Glu     2Glyfs   \n",
            "2                     c.            1                   Met          1   \n",
            "3                     c.            4                   Gln              \n",
            "4                     c.           11                   Ser              \n",
            "...                  ...          ...                   ...        ...   \n",
            "3276                  c.         4251                   Glu  1418Argfs   \n",
            "3277                  c.         4300                   Ser  1435Glyfs   \n",
            "3278                  c.         4364                   Ser         14   \n",
            "3279                  c.         4426                   Gln         14   \n",
            "3280                  c.         4439                   Leu       1480   \n",
            "\n",
            "     2_amino_acid_new 3_Change_Type 3_Position  \n",
            "0                 sX9            23        del  \n",
            "1                 X17      CFTRdele          1  \n",
            "2                 Val             M          1  \n",
            "3                 n2X             Q          2  \n",
            "4                 r4X             S          4  \n",
            "...               ...           ...        ...  \n",
            "3276              X14                     delA  \n",
            "3277              X14                    insGA  \n",
            "3278              55X             S       1455  \n",
            "3279              76X             Q       1476  \n",
            "3280              Pro             L       1480  \n",
            "\n",
            "[3281 rows x 17 columns]\n"
          ]
        }
      ]
    },
    {
      "cell_type": "code",
      "source": [
        "# '1_amino_acid_change' adlı sütunu DataFrame'den silme\n",
        "df.drop('1_amino_acid_change', axis=1, inplace=True)\n"
      ],
      "metadata": {
        "id": "df7e6i5VcWBB"
      },
      "execution_count": null,
      "outputs": []
    },
    {
      "cell_type": "code",
      "source": [
        "value_counts = df['3_Change_Type'].value_counts()\n",
        "print(\"\\nSütundaki Benzersiz Değerlerin Sayısı:\")\n",
        "print(value_counts)"
      ],
      "metadata": {
        "colab": {
          "base_uri": "https://localhost:8080/"
        },
        "id": "OvxBmkVJTvhj",
        "outputId": "cb27d9b3-7ef8-40ec-fed6-cfafb927bc04"
      },
      "execution_count": null,
      "outputs": [
        {
          "output_type": "stream",
          "name": "stdout",
          "text": [
            "\n",
            "Sütundaki Benzersiz Değerlerin Sayısı:\n",
            "3_Change_Type\n",
            "               661\n",
            "R              303\n",
            "1              230\n",
            "Q              189\n",
            "G              175\n",
            "S              162\n",
            "CFTRdele       154\n",
            "L              152\n",
            "W              121\n",
            "E              113\n",
            "Y               81\n",
            "D               81\n",
            "F               69\n",
            "I               69\n",
            "2               68\n",
            "V               56\n",
            "5               54\n",
            "A               54\n",
            "3               52\n",
            "4               48\n",
            "P               40\n",
            "M               39\n",
            "H               34\n",
            "T               31\n",
            "C               17\n",
            "26              16\n",
            "11              16\n",
            "8               16\n",
            "9               14\n",
            "7               14\n",
            "K                9\n",
            "2117             8\n",
            "N                8\n",
            "10               8\n",
            "977              8\n",
            "40               8\n",
            "32               8\n",
            "23               8\n",
            "1643             8\n",
            "1634             8\n",
            "13               8\n",
            "12               8\n",
            "CFTRdup          8\n",
            "22               8\n",
            "14               8\n",
            "CFTR             8\n",
            "366              8\n",
            "28               6\n",
            "2183             2\n",
            "IVSI-            2\n",
            "84               2\n",
            "6                2\n",
            "CFTRdelePr-      1\n",
            "Name: count, dtype: int64\n"
          ]
        }
      ]
    },
    {
      "cell_type": "code",
      "source": [
        "value_counts = df['Change from previous version?'].value_counts()\n",
        "print(\"\\nSütundaki Benzersiz Değerlerin Sayısı:\")\n",
        "print(value_counts)"
      ],
      "metadata": {
        "colab": {
          "base_uri": "https://localhost:8080/"
        },
        "id": "aCheti-R0O4I",
        "outputId": "0a3f16d2-0362-4a43-84d9-c77bde20ecd5"
      },
      "execution_count": null,
      "outputs": [
        {
          "output_type": "stream",
          "name": "stdout",
          "text": [
            "\n",
            "Sütundaki Benzersiz Değerlerin Sayısı:\n",
            "Change from previous version?\n",
            "No     3126\n",
            "Yes     155\n",
            "Name: count, dtype: int64\n"
          ]
        }
      ]
    },
    {
      "cell_type": "code",
      "source": [
        "value_counts = df['3_Position'].value_counts()\n",
        "print(\"\\nSütundaki Benzersiz Değerlerin Sayısı:\")\n",
        "print(value_counts)"
      ],
      "metadata": {
        "colab": {
          "base_uri": "https://localhost:8080/"
        },
        "id": "N2jRKYmvTz7U",
        "outputId": "4f2b8c20-9c24-4007-c64a-5d2d0bb77ac2"
      },
      "execution_count": null,
      "outputs": [
        {
          "output_type": "stream",
          "name": "stdout",
          "text": [
            "\n",
            "Sütundaki Benzersiz Değerlerin Sayısı:\n",
            "3_Position\n",
            "+       303\n",
            "-       179\n",
            "delA    135\n",
            "del     120\n",
            "delT     85\n",
            "       ... \n",
            "225       1\n",
            "290       1\n",
            "353       1\n",
            "10        1\n",
            "577       1\n",
            "Name: count, Length: 278, dtype: int64\n"
          ]
        }
      ]
    },
    {
      "cell_type": "code",
      "source": [
        "#Variant legacy name sütunu\n",
        "#df[['3_Change_Type', '3_Position']] = df['Variant legacy name'].str.extract(r'([A-Z]+)(\\d+)')\n",
        "#df['3_Change_Type'] = df['3_Change_Type'].str.replace(r'\\d+', '')\n",
        "#df['3_Position'] = pd.to_numeric(df['3_Position'], errors='coerce')\n",
        "\n",
        "#df[['3_Change_Type', '3_Position']] = df['Variant legacy name'].str.extract(r'([0-9]+)(\\d+)')\n",
        "#df['3_Change_Type'] = df['3_Change_Type'].str.replace(r'\\d+', '')\n",
        "#df['3_Position'] = pd.to_numeric(df['3_Position'], errors='coerce')"
      ],
      "metadata": {
        "id": "6h4XxMEriTJB"
      },
      "execution_count": null,
      "outputs": []
    },
    {
      "cell_type": "code",
      "source": [
        "df['rsID'] = df['rsID'].str.replace('rs', '')"
      ],
      "metadata": {
        "id": "SAFNox1XZLh8"
      },
      "execution_count": null,
      "outputs": []
    },
    {
      "cell_type": "code",
      "source": [
        "print(df)"
      ],
      "metadata": {
        "colab": {
          "base_uri": "https://localhost:8080/"
        },
        "id": "5-Ha_UboiTR4",
        "outputId": "c41deb3a-5f35-490c-855d-40561d9edf33"
      },
      "execution_count": null,
      "outputs": [
        {
          "output_type": "stream",
          "name": "stdout",
          "text": [
            "     Variant cDNA name\\n (ordered 5' to 3') Variant protein name  \\\n",
            "0                              c.-9_14del23     p.Lys1250ArgfsX9   \n",
            "1                    c.(?_1)_(53+1_54-1)del       p.Glu2GlyfsX17   \n",
            "2                                    c.1A>G            p.Met1Val   \n",
            "3                                    c.4C>T              p.Gln2X   \n",
            "4                                   c.11C>A              p.Ser4X   \n",
            "...                                     ...                  ...   \n",
            "3276                             c.4251delA    p.Glu1418ArgfsX14   \n",
            "3277                         c.4300_4301dup    p.Ser1435GlyfsX14   \n",
            "3278                              c.4364C>G           p.Ser1455X   \n",
            "3279                              c.4426C>T           p.Gln1476X   \n",
            "3280                              c.4439T>C         p.Leu1480Pro   \n",
            "\n",
            "     Variant legacy name       rsID  alleles_CFTR2  Allele_frequency_CFTR2  \\\n",
            "0             124del23bp  397508136              6                 0.00004   \n",
            "1              CFTRdele1  121908748              6                 0.00004   \n",
            "2                    M1V  397508328             26                 0.00018   \n",
            "3                    Q2X  397508740              5                 0.00004   \n",
            "4                    S4X  397508173             14                 0.00010   \n",
            "...                  ...        ...            ...                     ...   \n",
            "3276            4382delA  397508706             65                 0.00046   \n",
            "3277           4428insGA  397508709              4                 0.00003   \n",
            "3278              S1455X  121909043             18                 0.00013   \n",
            "3279              Q1476X  374705585             17                 0.00012   \n",
            "3280              L1480P  758818611              5                 0.00004   \n",
            "\n",
            "      pancreatic_insufficient Previous_Variant_Determination  \\\n",
            "0                        1.00                     CF-causing   \n",
            "1                        1.00                     CF-causing   \n",
            "2                        0.84                     CF-causing   \n",
            "3                        1.00                     CF-causing   \n",
            "4                        1.00                     CF-causing   \n",
            "...                       ...                            ...   \n",
            "3276                     0.38                     CF-causing   \n",
            "3277                     0.75                     CF-causing   \n",
            "3278                     0.10   Varying clinical consequence   \n",
            "3279                     0.18   Varying clinical consequence   \n",
            "3280                     0.67   Varying clinical consequence   \n",
            "\n",
            "     Variant_final_determination_current Change from previous version?  \\\n",
            "0                             CF-causing                            No   \n",
            "1                             CF-causing                            No   \n",
            "2                             CF-causing                            No   \n",
            "3                             CF-causing                            No   \n",
            "4                             CF-causing                            No   \n",
            "...                                  ...                           ...   \n",
            "3276                          CF-causing                            No   \n",
            "3277                          CF-causing                            No   \n",
            "3278        Varying clinical consequence                            No   \n",
            "3279        Varying clinical consequence                            No   \n",
            "3280        Varying clinical consequence                            No   \n",
            "\n",
            "     1_a_position 2_amino_acid_original 2_position 2_amino_acid_new  \\\n",
            "0              -9                   Lys   1250Argf              sX9   \n",
            "1               1                   Glu     2Glyfs              X17   \n",
            "2               1                   Met          1              Val   \n",
            "3               4                   Gln                         n2X   \n",
            "4              11                   Ser                         r4X   \n",
            "...           ...                   ...        ...              ...   \n",
            "3276         4251                   Glu  1418Argfs              X14   \n",
            "3277         4300                   Ser  1435Glyfs              X14   \n",
            "3278         4364                   Ser         14              55X   \n",
            "3279         4426                   Gln         14              76X   \n",
            "3280         4439                   Leu       1480              Pro   \n",
            "\n",
            "     3_Change_Type 3_Position  \n",
            "0               23        del  \n",
            "1         CFTRdele          1  \n",
            "2                M          1  \n",
            "3                Q          2  \n",
            "4                S          4  \n",
            "...            ...        ...  \n",
            "3276                     delA  \n",
            "3277                    insGA  \n",
            "3278             S       1455  \n",
            "3279             Q       1476  \n",
            "3280             L       1480  \n",
            "\n",
            "[3281 rows x 16 columns]\n"
          ]
        }
      ]
    },
    {
      "cell_type": "code",
      "source": [
        "ek=df.isna()\n",
        "ek.sum()"
      ],
      "metadata": {
        "colab": {
          "base_uri": "https://localhost:8080/"
        },
        "id": "lHui6V1y65-g",
        "outputId": "7aaf83ea-e649-4f0e-c36a-7ccf73a45602"
      },
      "execution_count": null,
      "outputs": [
        {
          "output_type": "execute_result",
          "data": {
            "text/plain": [
              "Variant cDNA name\\n (ordered 5' to 3')    0\n",
              "Variant protein name                      0\n",
              "Variant legacy name                       0\n",
              "rsID                                      0\n",
              "alleles_CFTR2                             0\n",
              "Allele_frequency_CFTR2                    0\n",
              "pancreatic_insufficient                   0\n",
              "Previous_Variant_Determination            0\n",
              "Variant_final_determination_current       0\n",
              "Change from previous version?             0\n",
              "1_a_position                              0\n",
              "2_amino_acid_original                     0\n",
              "2_position                                0\n",
              "2_amino_acid_new                          0\n",
              "3_Change_Type                             0\n",
              "3_Position                                0\n",
              "dtype: int64"
            ]
          },
          "metadata": {},
          "execution_count": 250
        }
      ]
    },
    {
      "cell_type": "code",
      "source": [
        "#from google.colab import drive\n",
        "#drive.mount('/content/drive')"
      ],
      "metadata": {
        "id": "eUTkGHOZVFOH"
      },
      "execution_count": null,
      "outputs": []
    },
    {
      "cell_type": "code",
      "source": [
        "print(df)"
      ],
      "metadata": {
        "colab": {
          "base_uri": "https://localhost:8080/"
        },
        "id": "WRLpvWNqbDug",
        "outputId": "86fe63dc-afd1-46d0-dd13-3f38600cf650"
      },
      "execution_count": null,
      "outputs": [
        {
          "output_type": "stream",
          "name": "stdout",
          "text": [
            "     Variant cDNA name\\n (ordered 5' to 3') Variant protein name  \\\n",
            "0                              c.-9_14del23     p.Lys1250ArgfsX9   \n",
            "1                    c.(?_1)_(53+1_54-1)del       p.Glu2GlyfsX17   \n",
            "2                                    c.1A>G            p.Met1Val   \n",
            "3                                    c.4C>T              p.Gln2X   \n",
            "4                                   c.11C>A              p.Ser4X   \n",
            "...                                     ...                  ...   \n",
            "3276                             c.4251delA    p.Glu1418ArgfsX14   \n",
            "3277                         c.4300_4301dup    p.Ser1435GlyfsX14   \n",
            "3278                              c.4364C>G           p.Ser1455X   \n",
            "3279                              c.4426C>T           p.Gln1476X   \n",
            "3280                              c.4439T>C         p.Leu1480Pro   \n",
            "\n",
            "     Variant legacy name       rsID  alleles_CFTR2  Allele_frequency_CFTR2  \\\n",
            "0             124del23bp  397508136              6                 0.00004   \n",
            "1              CFTRdele1  121908748              6                 0.00004   \n",
            "2                    M1V  397508328             26                 0.00018   \n",
            "3                    Q2X  397508740              5                 0.00004   \n",
            "4                    S4X  397508173             14                 0.00010   \n",
            "...                  ...        ...            ...                     ...   \n",
            "3276            4382delA  397508706             65                 0.00046   \n",
            "3277           4428insGA  397508709              4                 0.00003   \n",
            "3278              S1455X  121909043             18                 0.00013   \n",
            "3279              Q1476X  374705585             17                 0.00012   \n",
            "3280              L1480P  758818611              5                 0.00004   \n",
            "\n",
            "      pancreatic_insufficient Previous_Variant_Determination  \\\n",
            "0                        1.00                     CF-causing   \n",
            "1                        1.00                     CF-causing   \n",
            "2                        0.84                     CF-causing   \n",
            "3                        1.00                     CF-causing   \n",
            "4                        1.00                     CF-causing   \n",
            "...                       ...                            ...   \n",
            "3276                     0.38                     CF-causing   \n",
            "3277                     0.75                     CF-causing   \n",
            "3278                     0.10   Varying clinical consequence   \n",
            "3279                     0.18   Varying clinical consequence   \n",
            "3280                     0.67   Varying clinical consequence   \n",
            "\n",
            "     Variant_final_determination_current Change from previous version?  \\\n",
            "0                             CF-causing                            No   \n",
            "1                             CF-causing                            No   \n",
            "2                             CF-causing                            No   \n",
            "3                             CF-causing                            No   \n",
            "4                             CF-causing                            No   \n",
            "...                                  ...                           ...   \n",
            "3276                          CF-causing                            No   \n",
            "3277                          CF-causing                            No   \n",
            "3278        Varying clinical consequence                            No   \n",
            "3279        Varying clinical consequence                            No   \n",
            "3280        Varying clinical consequence                            No   \n",
            "\n",
            "     1_a_position 2_amino_acid_original 2_position 2_amino_acid_new  \\\n",
            "0              -9                   Lys   1250Argf              sX9   \n",
            "1               1                   Glu     2Glyfs              X17   \n",
            "2               1                   Met          1              Val   \n",
            "3               4                   Gln                         n2X   \n",
            "4              11                   Ser                         r4X   \n",
            "...           ...                   ...        ...              ...   \n",
            "3276         4251                   Glu  1418Argfs              X14   \n",
            "3277         4300                   Ser  1435Glyfs              X14   \n",
            "3278         4364                   Ser         14              55X   \n",
            "3279         4426                   Gln         14              76X   \n",
            "3280         4439                   Leu       1480              Pro   \n",
            "\n",
            "     3_Change_Type 3_Position  \n",
            "0               23        del  \n",
            "1         CFTRdele          1  \n",
            "2                M          1  \n",
            "3                Q          2  \n",
            "4                S          4  \n",
            "...            ...        ...  \n",
            "3276                     delA  \n",
            "3277                    insGA  \n",
            "3278             S       1455  \n",
            "3279             Q       1476  \n",
            "3280             L       1480  \n",
            "\n",
            "[3281 rows x 16 columns]\n"
          ]
        }
      ]
    },
    {
      "cell_type": "code",
      "source": [
        "from sklearn.preprocessing import LabelEncoder\n"
      ],
      "metadata": {
        "id": "oC5ahkbn66Gh"
      },
      "execution_count": null,
      "outputs": []
    },
    {
      "cell_type": "code",
      "source": [
        "le = LabelEncoder()\n",
        "\n",
        "df['Previous_Variant_Determination'] = le.fit_transform(df['Previous_Variant_Determination'])\n",
        "df['2_amino_acid_new'] = le.fit_transform(df['2_amino_acid_new'])\n",
        "df['Variant_final_determination_current'] = le.fit_transform(df['Variant_final_determination_current'])\n",
        "df['Change from previous version?'] = le.fit_transform(df['Change from previous version?'])\n",
        "df['2_amino_acid_original'] = le.fit_transform(df['2_amino_acid_original'])\n",
        "df['2_position'] = le.fit_transform(df['2_position'])\n",
        "df['3_Change_Type'] = le.fit_transform(df['3_Change_Type'])\n",
        "df['3_Position'] = le.fit_transform(df['3_Position'])"
      ],
      "metadata": {
        "id": "359R_jBnbXdB"
      },
      "execution_count": null,
      "outputs": []
    },
    {
      "cell_type": "code",
      "source": [
        "df.drop(df.columns[:3], axis=1, inplace=True)\n"
      ],
      "metadata": {
        "id": "lfJSm6yxdx0Z"
      },
      "execution_count": null,
      "outputs": []
    },
    {
      "cell_type": "code",
      "source": [
        "print(df)"
      ],
      "metadata": {
        "colab": {
          "base_uri": "https://localhost:8080/"
        },
        "id": "08-wjiBEenTT",
        "outputId": "88de606d-6f97-49f0-ab25-ac7a11c8596c"
      },
      "execution_count": null,
      "outputs": [
        {
          "output_type": "stream",
          "name": "stdout",
          "text": [
            "           rsID  alleles_CFTR2  Allele_frequency_CFTR2  \\\n",
            "0     397508136              6                 0.00004   \n",
            "1     121908748              6                 0.00004   \n",
            "2     397508328             26                 0.00018   \n",
            "3     397508740              5                 0.00004   \n",
            "4     397508173             14                 0.00010   \n",
            "...         ...            ...                     ...   \n",
            "3276  397508706             65                 0.00046   \n",
            "3277  397508709              4                 0.00003   \n",
            "3278  121909043             18                 0.00013   \n",
            "3279  374705585             17                 0.00012   \n",
            "3280  758818611              5                 0.00004   \n",
            "\n",
            "      pancreatic_insufficient  Previous_Variant_Determination  \\\n",
            "0                        1.00                               0   \n",
            "1                        1.00                               0   \n",
            "2                        0.84                               0   \n",
            "3                        1.00                               0   \n",
            "4                        1.00                               0   \n",
            "...                       ...                             ...   \n",
            "3276                     0.38                               0   \n",
            "3277                     0.75                               0   \n",
            "3278                     0.10                               2   \n",
            "3279                     0.18                               2   \n",
            "3280                     0.67                               2   \n",
            "\n",
            "      Variant_final_determination_current  Change from previous version?  \\\n",
            "0                                       0                              0   \n",
            "1                                       0                              0   \n",
            "2                                       0                              0   \n",
            "3                                       0                              0   \n",
            "4                                       0                              0   \n",
            "...                                   ...                            ...   \n",
            "3276                                    0                              0   \n",
            "3277                                    0                              0   \n",
            "3278                                    2                              0   \n",
            "3279                                    2                              0   \n",
            "3280                                    2                              0   \n",
            "\n",
            "     1_a_position  2_amino_acid_original  2_position  2_amino_acid_new  \\\n",
            "0              -9                     13          62               141   \n",
            "1               1                      8         134               103   \n",
            "2               1                     14           1                95   \n",
            "3               4                      7           0               130   \n",
            "4              11                     17           0               131   \n",
            "...           ...                    ...         ...               ...   \n",
            "3276         4251                      8          94               100   \n",
            "3277         4300                     17          96               100   \n",
            "3278         4364                     17          91                46   \n",
            "3279         4426                      7          91                62   \n",
            "3280         4439                     12         100                90   \n",
            "\n",
            "      3_Change_Type  3_Position  \n",
            "0                13         252  \n",
            "1                31           2  \n",
            "2                43           2  \n",
            "3                46          98  \n",
            "4                48         137  \n",
            "...             ...         ...  \n",
            "3276              0         253  \n",
            "3277              0         274  \n",
            "3278             48          80  \n",
            "3279             46          81  \n",
            "3280             42          83  \n",
            "\n",
            "[3281 rows x 13 columns]\n"
          ]
        }
      ]
    },
    {
      "cell_type": "code",
      "source": [
        "from sklearn.ensemble import RandomForestClassifier\n",
        "from sklearn.model_selection import train_test_split\n",
        "from sklearn.metrics import accuracy_score"
      ],
      "metadata": {
        "id": "byYkspJDdlTB"
      },
      "execution_count": null,
      "outputs": []
    },
    {
      "cell_type": "code",
      "source": [
        "column_types = df.dtypes\n",
        "print(column_types)"
      ],
      "metadata": {
        "colab": {
          "base_uri": "https://localhost:8080/"
        },
        "id": "plBh6Y8shfRs",
        "outputId": "5830e286-3dbd-4f54-bf24-06cfb3b9cc8f"
      },
      "execution_count": null,
      "outputs": [
        {
          "output_type": "stream",
          "name": "stdout",
          "text": [
            "rsID                                    object\n",
            "alleles_CFTR2                            int64\n",
            "Allele_frequency_CFTR2                 float64\n",
            "pancreatic_insufficient                float64\n",
            "Previous_Variant_Determination           int64\n",
            "Variant_final_determination_current      int64\n",
            "Change from previous version?            int64\n",
            "1_a_position                            object\n",
            "2_amino_acid_original                    int64\n",
            "2_position                               int64\n",
            "2_amino_acid_new                         int64\n",
            "3_Change_Type                            int64\n",
            "3_Position                               int64\n",
            "dtype: object\n"
          ]
        }
      ]
    },
    {
      "cell_type": "code",
      "source": [
        "df['rsID'] = pd.to_numeric(df['rsID'].str.extract(r'(\\d+)')[0], errors='coerce')\n",
        "\n",
        "df['rsID'] = df['rsID'].astype('float64')"
      ],
      "metadata": {
        "id": "uVR35sEwh11w"
      },
      "execution_count": null,
      "outputs": []
    },
    {
      "cell_type": "code",
      "source": [
        "df['1_a_position'] = pd.to_numeric(df['1_a_position'].str.extract(r'(\\d+)')[0], errors='coerce')\n",
        "\n",
        "df['1_a_position'] = df['1_a_position'].astype('float64')"
      ],
      "metadata": {
        "id": "_SIhFi0Ah5Rz"
      },
      "execution_count": null,
      "outputs": []
    },
    {
      "cell_type": "code",
      "source": [
        "column_names = df.columns\n",
        "\n",
        "df[column_names] = df[column_names].astype(float)"
      ],
      "metadata": {
        "id": "EoyNzr4Jf7uz"
      },
      "execution_count": null,
      "outputs": []
    },
    {
      "cell_type": "code",
      "source": [
        "column_types = df.dtypes\n",
        "print(column_types)"
      ],
      "metadata": {
        "colab": {
          "base_uri": "https://localhost:8080/"
        },
        "id": "NbLb6RBziAGD",
        "outputId": "99a86f5d-f90a-4db3-98fd-5596cfa4443b"
      },
      "execution_count": null,
      "outputs": [
        {
          "output_type": "stream",
          "name": "stdout",
          "text": [
            "rsID                                   float64\n",
            "alleles_CFTR2                          float64\n",
            "Allele_frequency_CFTR2                 float64\n",
            "pancreatic_insufficient                float64\n",
            "Previous_Variant_Determination         float64\n",
            "Variant_final_determination_current    float64\n",
            "Change from previous version?          float64\n",
            "1_a_position                           float64\n",
            "2_amino_acid_original                  float64\n",
            "2_position                             float64\n",
            "2_amino_acid_new                       float64\n",
            "3_Change_Type                          float64\n",
            "3_Position                             float64\n",
            "dtype: object\n"
          ]
        }
      ]
    },
    {
      "cell_type": "code",
      "source": [
        "X = df.drop('Change from previous version?', axis=1)\n",
        "y = df['Change from previous version?']\n"
      ],
      "metadata": {
        "id": "Uc6sGb9Sdnaq"
      },
      "execution_count": null,
      "outputs": []
    },
    {
      "cell_type": "code",
      "source": [
        "ek=df.isna()\n",
        "ek.sum()"
      ],
      "metadata": {
        "colab": {
          "base_uri": "https://localhost:8080/"
        },
        "id": "ftL8CcXviHtw",
        "outputId": "663e0047-0cfa-405e-e32b-04cbee0a3ea9"
      },
      "execution_count": null,
      "outputs": [
        {
          "output_type": "execute_result",
          "data": {
            "text/plain": [
              "rsID                                   4\n",
              "alleles_CFTR2                          0\n",
              "Allele_frequency_CFTR2                 0\n",
              "pancreatic_insufficient                0\n",
              "Previous_Variant_Determination         0\n",
              "Variant_final_determination_current    0\n",
              "Change from previous version?          0\n",
              "1_a_position                           0\n",
              "2_amino_acid_original                  0\n",
              "2_position                             0\n",
              "2_amino_acid_new                       0\n",
              "3_Change_Type                          0\n",
              "3_Position                             0\n",
              "dtype: int64"
            ]
          },
          "metadata": {},
          "execution_count": 271
        }
      ]
    },
    {
      "cell_type": "code",
      "source": [
        "df['rsID'].fillna(mode_value, inplace=True)"
      ],
      "metadata": {
        "id": "ct0OYjKvipwd"
      },
      "execution_count": null,
      "outputs": []
    },
    {
      "cell_type": "code",
      "source": [
        "ek=df.isna()\n",
        "ek.sum()"
      ],
      "metadata": {
        "colab": {
          "base_uri": "https://localhost:8080/"
        },
        "id": "Cgi1UZjljEtP",
        "outputId": "9321e5b5-34ca-4395-8c81-52e39c8ecda3"
      },
      "execution_count": null,
      "outputs": [
        {
          "output_type": "execute_result",
          "data": {
            "text/plain": [
              "rsID                                   0\n",
              "alleles_CFTR2                          0\n",
              "Allele_frequency_CFTR2                 0\n",
              "pancreatic_insufficient                0\n",
              "Previous_Variant_Determination         0\n",
              "Variant_final_determination_current    0\n",
              "Change from previous version?          0\n",
              "1_a_position                           0\n",
              "2_amino_acid_original                  0\n",
              "2_position                             0\n",
              "2_amino_acid_new                       0\n",
              "3_Change_Type                          0\n",
              "3_Position                             0\n",
              "dtype: int64"
            ]
          },
          "metadata": {},
          "execution_count": 273
        }
      ]
    },
    {
      "cell_type": "code",
      "source": [
        "data = pd.DataFrame(columns=['3_Change_Type','3_Position', 'Change from previous version?'])\n",
        "# Veri çerçevesini uygun formata dönüştürme (pivot table)\n",
        "heatmap_data = df.pivot_table(index='Change from previous version?', columns='3_Change_Type',values='3_Position', aggfunc='mean')\n",
        "\n",
        "# Isı haritasını oluşturma\n",
        "plt.figure(figsize=(10, 6))\n",
        "sns.heatmap(heatmap_data, annot=True, cmap='viridis', fmt='.1f', linewidths=.5)\n",
        "plt.title('Heatmap of Value2 vs Value1 by Category')\n",
        "plt.xlabel('3_Change_Type')\n",
        "plt.ylabel('Change from previous version?')\n",
        "plt.show()\n"
      ],
      "metadata": {
        "colab": {
          "base_uri": "https://localhost:8080/",
          "height": 581
        },
        "id": "XR15M6I0gSx3",
        "outputId": "0a307d09-318f-4328-d47e-8b214b96a166"
      },
      "execution_count": null,
      "outputs": [
        {
          "output_type": "display_data",
          "data": {
            "text/plain": [
              "<Figure size 1000x600 with 2 Axes>"
            ],
            "image/png": "[encoded data removed]"
          },
          "metadata": {}
        }
      ]
    },
    {
      "cell_type": "code",
      "source": [
        "X_train, X_test, y_train, y_test = train_test_split(X, y, test_size=0.2, random_state=42)\n",
        "\n"
      ],
      "metadata": {
        "id": "L7rYBxbddndW"
      },
      "execution_count": null,
      "outputs": []
    },
    {
      "cell_type": "code",
      "source": [
        "# X_train ve y_train verilerini görselleştirme\n",
        "print(\"X_train Verisi:\")\n",
        "print(X_train)\n",
        "\n",
        "print(\"\\nY_train Verisi:\")\n",
        "print(y_train)"
      ],
      "metadata": {
        "colab": {
          "base_uri": "https://localhost:8080/"
        },
        "id": "OZnQuzO72yho",
        "outputId": "33075620-119c-4a32-fd02-c9051233f72e"
      },
      "execution_count": null,
      "outputs": [
        {
          "output_type": "stream",
          "name": "stdout",
          "text": [
            "X_train Verisi:\n",
            "             rsID  alleles_CFTR2  Allele_frequency_CFTR2  \\\n",
            "831   121908769.0          307.0              216.000000   \n",
            "2843  397508366.0           11.0                0.000080   \n",
            "2574    1805177.0          516.0              365.000000   \n",
            "2605   76713772.0         1216.0              860.000000   \n",
            "111   121908748.0            6.0                0.000040   \n",
            "...           ...            ...                     ...   \n",
            "1095    1800110.0           20.0               14.000000   \n",
            "1130  202179988.0           36.0               25.000000   \n",
            "1294   77834169.0          146.0                0.001028   \n",
            "860    79660178.0           88.0               62.000000   \n",
            "3174  200321110.0           10.0                0.000070   \n",
            "\n",
            "      pancreatic_insufficient  Previous_Variant_Determination  \\\n",
            "831                  0.970000                             0.0   \n",
            "2843                 1.000000                             0.0   \n",
            "2574                 0.280000                             2.0   \n",
            "2605                 0.970000                             0.0   \n",
            "111                  1.000000                             0.0   \n",
            "...                       ...                             ...   \n",
            "1095                 0.000000                             2.0   \n",
            "1130                 0.340000                             2.0   \n",
            "1294                 0.242424                             0.0   \n",
            "860                  0.960000                             0.0   \n",
            "3174                 0.670000                             2.0   \n",
            "\n",
            "      Variant_final_determination_current  1_a_position  \\\n",
            "831                                   0.0         262.0   \n",
            "2843                                  0.0         233.0   \n",
            "2574                                  2.0        1210.0   \n",
            "2605                                  0.0        1585.0   \n",
            "111                                   0.0        1365.0   \n",
            "...                                   ...           ...   \n",
            "1095                                  2.0        2900.0   \n",
            "1130                                  2.0        3208.0   \n",
            "1294                                  0.0         349.0   \n",
            "860                                   0.0         366.0   \n",
            "3174                                  2.0        3205.0   \n",
            "\n",
            "      2_amino_acid_original  2_position  2_amino_acid_new  3_Change_Type  \\\n",
            "831                    12.0       252.0             105.0            0.0   \n",
            "2843                   19.0       238.0             111.0           18.0   \n",
            "2574                   13.0        62.0             141.0            0.0   \n",
            "2605                   13.0        62.0             141.0            1.0   \n",
            "111                    21.0       166.0             107.0            0.0   \n",
            "...                     ...         ...               ...            ...   \n",
            "1095                   12.0       270.0              91.0           42.0   \n",
            "1130                    3.0        28.0              93.0           47.0   \n",
            "1294                    3.0        47.0              80.0           47.0   \n",
            "860                    20.0         1.0              19.0           52.0   \n",
            "3174                    9.0        27.0              77.0           37.0   \n",
            "\n",
            "      3_Position  \n",
            "831        266.0  \n",
            "2843         1.0  \n",
            "2574       248.0  \n",
            "2605         1.0  \n",
            "111        259.0  \n",
            "...          ...  \n",
            "1095       236.0  \n",
            "1130        20.0  \n",
            "1294        42.0  \n",
            "860         46.0  \n",
            "3174        19.0  \n",
            "\n",
            "[2624 rows x 12 columns]\n",
            "\n",
            "Y_train Verisi:\n",
            "831     0.0\n",
            "2843    0.0\n",
            "2574    0.0\n",
            "2605    0.0\n",
            "111     0.0\n",
            "       ... \n",
            "1095    0.0\n",
            "1130    0.0\n",
            "1294    0.0\n",
            "860     0.0\n",
            "3174    0.0\n",
            "Name: Change from previous version?, Length: 2624, dtype: float64\n"
          ]
        }
      ]
    },
    {
      "cell_type": "code",
      "source": [
        "from sklearn.impute import SimpleImputer\n",
        "\n",
        "imputer = SimpleImputer(strategy='mean')  # Ortalama değerlerle doldur\n",
        "X_train_imputed = imputer.fit_transform(X_train)"
      ],
      "metadata": {
        "id": "wtD-gdyD2-wO"
      },
      "execution_count": null,
      "outputs": []
    },
    {
      "cell_type": "code",
      "source": [
        "X_train = pd.DataFrame(X_train_imputed, columns=X_train.columns)  # Eksik değerleri doldurulmuş X_train verisi\n",
        "\n",
        "# Eksik değerleri görselleştirme\n",
        "plt.figure(figsize=(10, 6))\n",
        "sns.heatmap(X_train.isnull(), cbar=False, cmap='viridis')\n",
        "plt.title('Eksik Değerlerin Görselleştirilmesi')\n",
        "plt.show()"
      ],
      "metadata": {
        "colab": {
          "base_uri": "https://localhost:8080/",
          "height": 780
        },
        "id": "Gxgw8VyT5GQe",
        "outputId": "be0e969f-57a2-47a2-d240-9ccb683014e2"
      },
      "execution_count": null,
      "outputs": [
        {
          "output_type": "display_data",
          "data": {
            "text/plain": [
              "<Figure size 1000x600 with 1 Axes>"
            ],
            "image/png": "[encoded data removed]"
          },
          "metadata": {}
        }
      ]
    },
    {
      "cell_type": "code",
      "source": [
        "from sklearn.impute import SimpleImputer\n",
        "\n",
        "# X_test verisindeki eksik değerleri doldurma\n",
        "imputer = SimpleImputer(strategy='mean')\n",
        "X_test_imputed = imputer.fit_transform(X_test)\n"
      ],
      "metadata": {
        "id": "PwpXcJHs58NG"
      },
      "execution_count": null,
      "outputs": []
    },
    {
      "cell_type": "code",
      "source": [
        "# X_test verisini güncelleme\n",
        "X_test = pd.DataFrame(X_test_imputed, columns=X_test.columns)  # Eksik değerleri doldurulmuş X_test verisi\n"
      ],
      "metadata": {
        "id": "iykvtnC35_xu"
      },
      "execution_count": null,
      "outputs": []
    },
    {
      "cell_type": "code",
      "source": [
        "from sklearn.ensemble import RandomForestClassifier\n",
        "from sklearn.metrics import accuracy_score\n",
        "\n",
        "# RandomForestClassifier modelini tekrar oluşturma\n",
        "rf_model = RandomForestClassifier(n_estimators=50, max_depth=10, random_state=42)\n",
        "\n",
        "# Modeli eğitme\n",
        "rf_model.fit(X_train, y_train)\n",
        "\n",
        "# Tahmin yapma\n",
        "y_pred = rf_model.predict(X_test)\n",
        "\n",
        "# Doğru\n",
        "accuracy = accuracy_score(y_test, y_pred)\n",
        "print(\"Model Doğruluğu:\", accuracy)"
      ],
      "metadata": {
        "colab": {
          "base_uri": "https://localhost:8080/"
        },
        "id": "qKRzlLw75_0l",
        "outputId": "1538ff66-cbbd-4e2c-9776-856bffa4d523"
      },
      "execution_count": null,
      "outputs": [
        {
          "output_type": "stream",
          "name": "stdout",
          "text": [
            "Model Doğruluğu: 0.954337899543379\n"
          ]
        }
      ]
    },
    {
      "cell_type": "code",
      "source": [
        "from sklearn.metrics import precision_score, recall_score\n",
        "\n",
        "# Modelinizin tahminleri ve gerçek etiketler\n",
        "y_pred = rf_model.predict(X_test)\n",
        "\n",
        "# Hassasiyet (Precision) ve Duyarlılık (Recall) hesaplama\n",
        "precision = precision_score(y_test, y_pred)\n",
        "recall = recall_score(y_test, y_pred)\n",
        "\n",
        "print(\"Hassasiyet (Precision): {:.2f}\".format(precision))\n",
        "print(\"Duyarlılık (Recall): {:.2f}\".format(recall))"
      ],
      "metadata": {
        "colab": {
          "base_uri": "https://localhost:8080/"
        },
        "id": "ZM1ZqVUA5ODZ",
        "outputId": "4eb73595-6f37-409f-ea61-da658bb26cab"
      },
      "execution_count": null,
      "outputs": [
        {
          "output_type": "stream",
          "name": "stdout",
          "text": [
            "Hassasiyet (Precision): 0.67\n",
            "Duyarlılık (Recall): 0.12\n"
          ]
        }
      ]
    },
    {
      "cell_type": "code",
      "source": [
        "from sklearn.metrics import f1_score\n",
        "\n",
        "# Modelinizin tahminleri ve gerçek etiketler\n",
        "y_pred = rf_model.predict(X_test)\n",
        "\n",
        "# F1-score hesaplama\n",
        "f1score = f1_score(y_test, y_pred)\n",
        "\n",
        "print(\"F1-score:\", f1score)"
      ],
      "metadata": {
        "colab": {
          "base_uri": "https://localhost:8080/"
        },
        "id": "xyj5fmXL6fN4",
        "outputId": "db83045e-1320-4774-d896-d8cd73a81f23"
      },
      "execution_count": null,
      "outputs": [
        {
          "output_type": "stream",
          "name": "stdout",
          "text": [
            "F1-score: 0.21052631578947367\n"
          ]
        }
      ]
    },
    {
      "cell_type": "code",
      "source": [
        "\n",
        "def mean_squared_error(y_test, y_pred):\n",
        "    mse = np.mean((y_test - y_pred) ** 2)\n",
        "    return mse"
      ],
      "metadata": {
        "id": "nMy4SuLr7m1w"
      },
      "execution_count": null,
      "outputs": []
    },
    {
      "cell_type": "code",
      "source": [
        "mse_degeri = mean_squared_error(y_test, y_pred)\n",
        "print(\"Mean Squared Error (MSE):\", mse_degeri)\n"
      ],
      "metadata": {
        "id": "PKIAFLDu2CH_",
        "outputId": "ab00d2dc-50cd-4b80-e6c4-527b532ac217",
        "colab": {
          "base_uri": "https://localhost:8080/"
        }
      },
      "execution_count": null,
      "outputs": [
        {
          "output_type": "stream",
          "name": "stdout",
          "text": [
            "Mean Squared Error (MSE): 0.045662100456621\n"
          ]
        }
      ]
    },
    {
      "cell_type": "code",
      "source": [],
      "metadata": {
        "id": "jwIB4bSa2JAf"
      },
      "execution_count": null,
      "outputs": []
    },
    {
      "cell_type": "code",
      "source": [],
      "metadata": {
        "id": "EjGvs9Wi2nea"
      },
      "execution_count": null,
      "outputs": []
    }
  ]
}